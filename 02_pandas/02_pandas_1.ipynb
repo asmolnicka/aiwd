{
 "cells": [
  {
   "cell_type": "markdown",
   "id": "16634f47",
   "metadata": {},
   "source": [
    "# Pandas"
   ]
  },
  {
   "cell_type": "markdown",
   "id": "f0ab7357",
   "metadata": {},
   "source": [
    "Pandas (**P**ython **AN**alysis of **DA**ta) – biblioteka do przetwarzania i analizy zbiorów danych\n",
    "\n",
    "Instalacja biblioteki - w wierszu poleceń:\n",
    "\n",
    "```\n",
    "   pip install pandas\n",
    "```\n",
    "lub w Jupyterze:"
   ]
  },
  {
   "cell_type": "code",
   "execution_count": null,
   "id": "f9c8dc98",
   "metadata": {},
   "outputs": [],
   "source": [
    "#%pip install pandas                                 "
   ]
  },
  {
   "cell_type": "markdown",
   "id": "45071382",
   "metadata": {},
   "source": [
    "Załadowanie biblioteki w Pythonie:"
   ]
  },
  {
   "cell_type": "code",
   "execution_count": null,
   "id": "b4bc8c3e",
   "metadata": {},
   "outputs": [],
   "source": [
    "import pandas as pd\n",
    "import numpy as np               # też nadal ważna"
   ]
  },
  {
   "cell_type": "markdown",
   "id": "7afff86c",
   "metadata": {},
   "source": [
    "Dwa typy struktur w Pandas:\n",
    "\n",
    "- jednowymiarowa: **Series** - zmienna, lista wartości jednego typu\n",
    "- dwuwymiarowa: **DataFrame** - tabela, lista zmiennych"
   ]
  },
  {
   "cell_type": "markdown",
   "id": "3fdd50f0",
   "metadata": {},
   "source": [
    "## Zawartość pliku\n",
    "\n",
    "1.\tSerie – pandas.series\n",
    "    -\tutworzenie serii\n",
    "    -\tindeksowanie i slicing\n",
    "    -\toperacje na seriach\n",
    "2.\tRamki danych – pandas.dataframe\n",
    "    -\tutworzenie ramki danych\n",
    "    -\twczytanie ramki danych z pliku \n",
    "    -\tzapis ramki danych w plik    \n",
    "3.\tStruktura danych\n",
    "    -\tpodgląd fragmentu danych\n",
    "    -\tpodstawowe informacje o danych\n",
    "4.\tIndeksowanie i slicing – Subsetting\n",
    "    -\twybór kolumn przez nazwy\n",
    "    -\twybór kolumn przez typ\n",
    "    -\twybór podzbiorów funkcją loc\n",
    "    -\twybór podzbiorów funkcją filter\n",
    "5.\tOperacje\n",
    "    -\toperacje matematyczne\n",
    "    -\toperacje stringowe\n",
    "    -\toperacje logiczne\n",
    "    -\tmapowanie\n",
    "6.\tFiltrowanie\n",
    "    -\tfiltrowanie\n",
    "    -\tsubsetting z filtrowaniem\n",
    "7.\tModyfikacja\n",
    "    -\tmodyfikacja wybranych wartości\n",
    "    -\tdodawanie / modyfikacja kolumn \n",
    "    -\tprzesuwanie kolumn\n",
    "    -\tusuwanie kolumn\n",
    "    -\tdodawanie wierszy\n",
    "    -\tusuwanie wierszy\n",
    "8.\tŁączenie ramek\n",
    "    -\tkonkatenacja\n",
    "    -\tzłączenia\n",
    "9.\tUtworzenie kopii ramki\n",
    "10.\tPrzekształcenia ramki\n",
    "    -\tdane szerokie $\\rightarrow$ dane długie\n",
    "    -\tdane długie $\\rightarrow$ dane szerokie\n",
    "    -\ttranspozycja\n",
    "    -\tsortowanie\n",
    "11.\tModyfikacja etykiet\n",
    "    -\tusunięcie etykiet indeksów\n",
    "    -\tzmiana etykiet indeksów\n",
    "    -\tzmiana nazw kolumn\n",
    "    -\tzmiana nazw list etykiet"
   ]
  },
  {
   "cell_type": "markdown",
   "id": "cadf5f3b",
   "metadata": {},
   "source": [
    "## 1. Serie - pandas.series"
   ]
  },
  {
   "cell_type": "markdown",
   "id": "65dcb98a",
   "metadata": {},
   "source": [
    "### Utworzenie serii\n",
    "\n",
    "**Za pomocą listy/numpy.array**"
   ]
  },
  {
   "cell_type": "code",
   "execution_count": null,
   "id": "fdf27886",
   "metadata": {},
   "outputs": [],
   "source": [
    "zmienna1 = pd.Series([1, 2, 3])\n",
    "\n",
    "print(zmienna1)"
   ]
  },
  {
   "cell_type": "code",
   "execution_count": null,
   "id": "874d0cbd",
   "metadata": {
    "scrolled": true
   },
   "outputs": [],
   "source": [
    "print(zmienna1.shape)"
   ]
  },
  {
   "cell_type": "markdown",
   "id": "4db629ac",
   "metadata": {},
   "source": [
    "Pandas.series mają indeksowane elementy w przeciwieństwie do list lub numpy.array."
   ]
  },
  {
   "cell_type": "code",
   "execution_count": null,
   "id": "9237082d",
   "metadata": {},
   "outputs": [],
   "source": [
    "print(pd.Series([1, 2, 3], index = ['x', 'y', 'z']))"
   ]
  },
  {
   "cell_type": "markdown",
   "id": "e28661db",
   "metadata": {},
   "source": [
    "**Za pomocą słownika**"
   ]
  },
  {
   "cell_type": "code",
   "execution_count": null,
   "id": "0fcd3186",
   "metadata": {},
   "outputs": [],
   "source": [
    "zmienna2 =  pd.Series({'a':'pies', 'b':'kot', 'c':'krowa'})\n",
    "print(zmienna2)"
   ]
  },
  {
   "cell_type": "markdown",
   "id": "f476663b",
   "metadata": {},
   "source": [
    "### Indeksowanie i slicing"
   ]
  },
  {
   "cell_type": "markdown",
   "id": "4c3996f3",
   "metadata": {},
   "source": [
    "**Indeksowanie**"
   ]
  },
  {
   "cell_type": "code",
   "execution_count": null,
   "id": "f134b481",
   "metadata": {
    "scrolled": true
   },
   "outputs": [],
   "source": [
    "print(zmienna1[1])\n",
    "print(zmienna2['b'])"
   ]
  },
  {
   "cell_type": "markdown",
   "id": "9f630882",
   "metadata": {},
   "source": [
    "**Slicing**"
   ]
  },
  {
   "cell_type": "code",
   "execution_count": null,
   "id": "b640c998",
   "metadata": {},
   "outputs": [],
   "source": [
    "print(zmienna1[1:])"
   ]
  },
  {
   "cell_type": "code",
   "execution_count": null,
   "id": "55b55bc0",
   "metadata": {},
   "outputs": [],
   "source": [
    "print(zmienna2[:'b'])                                 # włącznie z 'b'!"
   ]
  },
  {
   "cell_type": "markdown",
   "id": "08f2593b",
   "metadata": {},
   "source": [
    "---\n",
    "\n",
    "Pandas.series nie powinien składać się z elementów różnego typu - w pamięci przechowywane są oryginalne typy elementów, ale podczas operowania na całym pandas.series typ jest ujednolicany do najbardziej ogólnego:"
   ]
  },
  {
   "cell_type": "code",
   "execution_count": null,
   "id": "f743616d",
   "metadata": {
    "scrolled": false
   },
   "outputs": [],
   "source": [
    "lista = [1, 'a', 3]\n",
    "\n",
    "print(lista)\n",
    "print(pd.Series(lista))                               # zmiana int -> object (str)"
   ]
  },
  {
   "cell_type": "markdown",
   "id": "d1db4b1e",
   "metadata": {},
   "source": [
    "### Operacje na seriach"
   ]
  },
  {
   "cell_type": "markdown",
   "id": "8bc254d5",
   "metadata": {},
   "source": [
    "Pandas.series posiadają podobny (ale nie identyczny) zbiór funkcjonalności do numpy.array:"
   ]
  },
  {
   "cell_type": "code",
   "execution_count": null,
   "id": "62f44374",
   "metadata": {},
   "outputs": [],
   "source": [
    "zmienna = pd.Series([-1, 0, 1], dtype = 'object')     # zdefiniowanie typu elementów\n",
    "print(zmienna)"
   ]
  },
  {
   "cell_type": "code",
   "execution_count": null,
   "id": "49667ed3",
   "metadata": {},
   "outputs": [],
   "source": [
    "zmienna1 = pd.Series([1, 2, 3])\n",
    "zmienna2 = pd.Series([4, 5, 6])\n",
    "\n",
    "print(zmienna1 + zmienna2)                            # operacje matematyczne\n",
    "print(zmienna1 * 2)                                   # broadcasting\n",
    "print(pd.concat([zmienna1, zmienna2]))                # konkatenacja\n",
    "print(zmienna1[zmienna1 > 1])                         # operacje logiczne i filtrowanie\n",
    "zmienna1[1] = 9; print(zmienna1)                      # modyfikacja\n",
    "print(zmienna1.round())                               # funkcje matematyczne\n",
    "print(zmienna1.sum())                                 # funkcje statystyczne"
   ]
  },
  {
   "cell_type": "markdown",
   "id": "19b56f09",
   "metadata": {},
   "source": [
    "## 2. Ramki danych - pandas.dataframe"
   ]
  },
  {
   "cell_type": "markdown",
   "id": "69282956",
   "metadata": {},
   "source": [
    "### Utworzenie ramki danych"
   ]
  },
  {
   "cell_type": "markdown",
   "id": "025cd86b",
   "metadata": {},
   "source": [
    "**Za pomocą listy/numpy.array**"
   ]
  },
  {
   "cell_type": "code",
   "execution_count": null,
   "id": "fcb4edfa",
   "metadata": {},
   "outputs": [],
   "source": [
    "tabela = pd.DataFrame([[1, 2, 'pies'],\n",
    "                       [4, 5, 'kot'],\n",
    "                       [7, 8, 'krowa']])\n",
    "tabela"
   ]
  },
  {
   "cell_type": "code",
   "execution_count": null,
   "id": "5bf227fd",
   "metadata": {},
   "outputs": [],
   "source": [
    "tabela = pd.DataFrame([[1, 2, 'pies'],\n",
    "                       [4, 5, 'kot'],\n",
    "                       [7, 8, 'krowa']],\n",
    "                      columns = ['a', 'b', 'c'],       # nazwy kolumn\n",
    "                      index   = [1, 2, 3])             # indeksy wierszy\n",
    "tabela"
   ]
  },
  {
   "cell_type": "markdown",
   "id": "4137cb96",
   "metadata": {},
   "source": [
    "**Za pomocą słownika**"
   ]
  },
  {
   "cell_type": "code",
   "execution_count": null,
   "id": "670de252",
   "metadata": {},
   "outputs": [],
   "source": [
    "tabela = pd.DataFrame({'a': [1, 4, 7],\n",
    "                       'b': [2, 5, 8],\n",
    "                       'c': ['pies', 'kot', 'krowa']})\n",
    "tabela"
   ]
  },
  {
   "cell_type": "code",
   "execution_count": null,
   "id": "165871c3",
   "metadata": {},
   "outputs": [],
   "source": [
    "tabela = pd.DataFrame({'a': [1, 2, 3],                 # 'nazwa_zmiennej':lista_wartości\n",
    "                       'b': [4, 5, 6],\n",
    "                       'c': ['pies', 'kot', 'krowa']},\n",
    "                      index = ['x', 'y', 'z'])         # indeksy wierszy\n",
    "tabela"
   ]
  },
  {
   "cell_type": "code",
   "execution_count": null,
   "id": "acca8785",
   "metadata": {},
   "outputs": [],
   "source": [
    "tabela.info()"
   ]
  },
  {
   "cell_type": "markdown",
   "id": "0c951c2d",
   "metadata": {},
   "source": [
    "Każda kolumna pandas.dataframe to pandas.series. Konsekwencja: powinna zawierać tylko jeden typ danych."
   ]
  },
  {
   "cell_type": "code",
   "execution_count": null,
   "id": "191dd8a1",
   "metadata": {},
   "outputs": [],
   "source": [
    "type(tabela['a'])"
   ]
  },
  {
   "cell_type": "markdown",
   "id": "69f73594",
   "metadata": {},
   "source": [
    "---\n",
    "\n",
    "Utworzenie DataFrame za pomocą numpy.array jest właściwe, jeśli nasze dane są jednego typu, np. dane tylko ilościowe. \\\n",
    "W przeciwnym razie, typy danych mogą zmienić się na niepożądane."
   ]
  },
  {
   "cell_type": "code",
   "execution_count": null,
   "id": "fa5c5dd0",
   "metadata": {},
   "outputs": [],
   "source": [
    "tabela_lst = pd.DataFrame([[1, 2, 'pies'],\n",
    "                           [4, 5, 'kot'],\n",
    "                           [7, 8, 'krowa']])\n",
    "\n",
    "tabela_nmp = pd.DataFrame(np.array([[1, 2, 'pies'],\n",
    "                                    [4, 5, 'kot'],\n",
    "                                    [7, 8, 'krowa']]))\n",
    "\n",
    "tabela_lst.info()\n",
    "tabela_nmp.info()"
   ]
  },
  {
   "cell_type": "markdown",
   "id": "128ae885",
   "metadata": {},
   "source": [
    "### Wczytanie ramki danych z pliku"
   ]
  },
  {
   "cell_type": "markdown",
   "id": "05d1f9ee",
   "metadata": {},
   "source": [
    "Docelowo chcemy jako DataFrame wczytywać pliki o rozszerzeniach \"xlsx\", \"csv\", \"txt\", aby móc przetworzyć zebrane wcześniej dane. \\\n",
    "Jeśli nie chcemy podawać ścieżki bezwzględnej do pliku, ani ustawiać katalogu roboczego, to najlepiej mieć dane w tym samym folderze, co plik z kodem."
   ]
  },
  {
   "cell_type": "markdown",
   "id": "ce239fda",
   "metadata": {},
   "source": [
    "**Pliki csv i txt**\n",
    "\n",
    "Instrukcja funkcji read_csv:\n",
    "\n",
    "https://pandas.pydata.org/docs/reference/api/pandas.read_csv.html"
   ]
  },
  {
   "cell_type": "code",
   "execution_count": null,
   "id": "ddb170cb",
   "metadata": {
    "scrolled": true
   },
   "outputs": [],
   "source": [
    "pd.read_csv('data.csv')      \n",
    "#pd.read_csv('/usr/share/AiWD/data.csv')       # na Dziobaku - ścieżka do współdzielonego folderu z danymi (bez konieczności ich pobierania)"
   ]
  },
  {
   "cell_type": "code",
   "execution_count": null,
   "id": "be6894c7",
   "metadata": {},
   "outputs": [],
   "source": [
    "pd.read_csv('data_ansi.csv',\n",
    "            #encoding = 'ansi'                 # kodowanie pliku, np. 'utf-8' (domyślne), 'cp1250'\n",
    "            ) "
   ]
  },
  {
   "cell_type": "code",
   "execution_count": null,
   "id": "f7e14935",
   "metadata": {},
   "outputs": [],
   "source": [
    "pd.read_csv('data_semicolon.csv',\n",
    "            #sep = ';'                         # separator komórek, np. ',' (domyślne), ' ', '\\t' (tabulacja)\n",
    "            ) "
   ]
  },
  {
   "cell_type": "code",
   "execution_count": null,
   "id": "862a7dba",
   "metadata": {
    "scrolled": true
   },
   "outputs": [],
   "source": [
    "pd.read_csv('data_specific.csv')               # domyślne ustawienia nie pozwalają na odczytanie pliku!"
   ]
  },
  {
   "cell_type": "code",
   "execution_count": null,
   "id": "e0365b2c",
   "metadata": {},
   "outputs": [],
   "source": [
    "pd.read_csv('data_specific.csv',\n",
    "            sep       = ';',\n",
    "            decimal   = ',',                   # znak dziesiętny, np. '.' (domyślne)\n",
    "            #header    = None,                 # nr wiersza z nazwami kolumn, np. 0,1,2, None (brak)\n",
    "            #index_col = 0,                    # nr kolumny z indeksami wierszy\n",
    "            #names     = ['w', 'x', 'y', 'z']  # nazwy kolumn (były już zdefiniowane->dopisanie nad; nie było->zastąpienie)\n",
    "            )"
   ]
  },
  {
   "cell_type": "markdown",
   "id": "e579fd61",
   "metadata": {},
   "source": [
    "**Pliki xlsx**\n",
    "\n",
    "Instalacja pakietu `openpyxl`do wczytywania i zapisywania plików xlsx - w wierszu poleceń:\n",
    "```\n",
    "pip install openpyxl\n",
    "```\n",
    "lub w Jupyterze:"
   ]
  },
  {
   "cell_type": "code",
   "execution_count": null,
   "id": "471bf56b",
   "metadata": {},
   "outputs": [],
   "source": [
    "%pip install openpyxl                         "
   ]
  },
  {
   "cell_type": "markdown",
   "id": "35c0b8b3",
   "metadata": {},
   "source": [
    "Instrukcja funkcji read_excel:\n",
    "\n",
    "https://pandas.pydata.org/docs/reference/api/pandas.read_excel.html"
   ]
  },
  {
   "cell_type": "code",
   "execution_count": null,
   "id": "ff89c86b",
   "metadata": {},
   "outputs": [],
   "source": [
    "pd.read_excel('data.xlsx', 'tabela',           # dane i arkusz\n",
    "              header = 0                       # dalsze argumenty, analogiczne do read_csv\n",
    "              ) \n",
    "\n",
    "#pd.read_excel('/usr/share/AiWD/data.xlsx', 'tabela',          \n",
    "#              header = 0                       \n",
    "#              )                               # na Dziobaku - ścieżka do współdzielonego folderu z danymi (bez konieczności ich pobierania)"
   ]
  },
  {
   "cell_type": "markdown",
   "id": "30c4f22a",
   "metadata": {},
   "source": [
    "Instrukcja funkcji ExcelFile:\n",
    "\n",
    "https://pandas.pydata.org/docs/reference/api/pandas.ExcelFile.html"
   ]
  },
  {
   "cell_type": "code",
   "execution_count": null,
   "id": "7e3e36ba",
   "metadata": {},
   "outputs": [],
   "source": [
    "plik_excel = pd.ExcelFile('data.xlsx')         # wczytanie danych z xlsx (całego pliku)\n",
    "plik_excel.sheet_names                         # lista arkuszy danych pliku xlsx"
   ]
  },
  {
   "cell_type": "code",
   "execution_count": null,
   "id": "777cb100",
   "metadata": {},
   "outputs": [],
   "source": [
    "dane = plik_excel.parse('pracownicy',          # wczytanie danych z xlsx (konkretnego arkusza), domyślnie pierwszy\n",
    "                        index_col = 0          # dalsze argumenty, analogiczne do read_csv \n",
    "                        )                    \n",
    "dane   "
   ]
  },
  {
   "cell_type": "markdown",
   "id": "1692466e",
   "metadata": {},
   "source": [
    "### Zapis ramki danych w pliku"
   ]
  },
  {
   "cell_type": "code",
   "execution_count": null,
   "id": "0a536267",
   "metadata": {},
   "outputs": [],
   "source": [
    "dane.to_csv('data_saved.csv',       \n",
    "            index = False                      # zapis bez indeksów wierszy\n",
    "            )          "
   ]
  },
  {
   "cell_type": "code",
   "execution_count": null,
   "id": "2109ca67",
   "metadata": {},
   "outputs": [],
   "source": [
    "dane.to_excel('data_saved.xlsx',    \n",
    "              index = False                    # zapis bez indeksów wierszy\n",
    "              )"
   ]
  },
  {
   "cell_type": "code",
   "execution_count": null,
   "id": "09722926",
   "metadata": {},
   "outputs": [],
   "source": [
    "import pickle\n",
    "\n",
    "pickle.dump(dane, open('data_saved', 'wb'))    # zapis obiektu danych w pliku binarnym"
   ]
  },
  {
   "cell_type": "markdown",
   "id": "8391f589",
   "metadata": {},
   "source": [
    "Sprawdzenie:"
   ]
  },
  {
   "cell_type": "code",
   "execution_count": null,
   "id": "282601af",
   "metadata": {},
   "outputs": [],
   "source": [
    "pd.read_csv('data_saved.csv') "
   ]
  },
  {
   "cell_type": "code",
   "execution_count": null,
   "id": "af38c43c",
   "metadata": {},
   "outputs": [],
   "source": [
    "pd.read_excel('data_saved.xlsx') "
   ]
  },
  {
   "cell_type": "code",
   "execution_count": null,
   "id": "3889acae",
   "metadata": {},
   "outputs": [],
   "source": [
    "pickle.load(open('data_saved', 'rb'))"
   ]
  },
  {
   "cell_type": "markdown",
   "id": "6cb07169",
   "metadata": {},
   "source": [
    "## 3. Struktura danych"
   ]
  },
  {
   "cell_type": "markdown",
   "id": "8c440a6f",
   "metadata": {},
   "source": [
    "### Podgląd fragmentu danych"
   ]
  },
  {
   "cell_type": "code",
   "execution_count": null,
   "id": "55d3f008",
   "metadata": {},
   "outputs": [],
   "source": [
    "print(dane.head())                            # 5 pierwszych wierszy\n",
    "print()\n",
    "print(dane.head(2))                           # k pierwszych wierszy\n",
    "print()\n",
    "print(dane.tail())                            # 5 ostatnich wierszy"
   ]
  },
  {
   "cell_type": "code",
   "execution_count": null,
   "id": "6e10d3a6",
   "metadata": {},
   "outputs": [],
   "source": [
    "print(dane.sample())                          # losowy wiersz\n",
    "print()\n",
    "print(dane.sample(4))                         # k losowych wierszy"
   ]
  },
  {
   "cell_type": "markdown",
   "id": "1748b8f9",
   "metadata": {},
   "source": [
    "### Podstawowe informacje o danych"
   ]
  },
  {
   "cell_type": "code",
   "execution_count": null,
   "id": "586fed8a",
   "metadata": {
    "scrolled": true
   },
   "outputs": [],
   "source": [
    "dane.info()                                   # podsumowanie kluczowych informacji o danych"
   ]
  },
  {
   "cell_type": "code",
   "execution_count": null,
   "id": "cc50f1df",
   "metadata": {
    "scrolled": true
   },
   "outputs": [],
   "source": [
    "print(dane.index)                             # indeksy wierszy\n",
    "print(dane.columns)                           # nazwy kolumn"
   ]
  },
  {
   "cell_type": "code",
   "execution_count": null,
   "id": "8a9ac6e0",
   "metadata": {},
   "outputs": [],
   "source": [
    "print(dane.count())                           # liczba niepustych wartości w kolumnach\n",
    "print(dane.dtypes)                            # typy zmiennych"
   ]
  },
  {
   "cell_type": "code",
   "execution_count": null,
   "id": "255c0e72",
   "metadata": {},
   "outputs": [],
   "source": [
    "print(dane.shape)                             # wymiary zbioru danych (liczba wierszy i kolumn)\n",
    "print(len(dane))                              # liczba wierszy\n",
    "print(len(dane.columns))                      # liczba kolumn"
   ]
  },
  {
   "cell_type": "markdown",
   "id": "98328635",
   "metadata": {},
   "source": [
    "## 4. Indeksowanie i slicing - Subsetting"
   ]
  },
  {
   "cell_type": "markdown",
   "id": "a3b1c436",
   "metadata": {},
   "source": [
    "### Wybór kolumn poprzez ich nazwy"
   ]
  },
  {
   "cell_type": "markdown",
   "id": "790f1844",
   "metadata": {},
   "source": [
    "**Jedna kolumna**"
   ]
  },
  {
   "cell_type": "code",
   "execution_count": null,
   "id": "f1553465",
   "metadata": {},
   "outputs": [],
   "source": [
    "print(dane['Imię'])                           # kolumna jako pandas.series\n",
    "print(dane.Imię)"
   ]
  },
  {
   "cell_type": "code",
   "execution_count": null,
   "id": "d5570507",
   "metadata": {},
   "outputs": [],
   "source": [
    "print(dane[['Imię']])                         # kolumna jako pandas.dataframe"
   ]
  },
  {
   "cell_type": "code",
   "execution_count": null,
   "id": "489dc5fb",
   "metadata": {},
   "outputs": [],
   "source": [
    "print(type(dane['Imię']),   dane['Imię'].shape)\n",
    "print(type(dane[['Imię']]), dane[['Imię']].shape)"
   ]
  },
  {
   "cell_type": "markdown",
   "id": "86f778c8",
   "metadata": {},
   "source": [
    "Gdy nazwa kolumny jest dwuczłonowa dostęp do niej jest tylko na pierwszy ze sposobów:"
   ]
  },
  {
   "cell_type": "code",
   "execution_count": null,
   "id": "e520c71d",
   "metadata": {},
   "outputs": [],
   "source": [
    "print(dane['Data urodzenia']) \n",
    "#print(dane.Data urodzenia)                    # błąd składni (SyntaxError)"
   ]
  },
  {
   "cell_type": "markdown",
   "id": "8ff18e88",
   "metadata": {},
   "source": [
    "**Kilka kolumn**"
   ]
  },
  {
   "cell_type": "code",
   "execution_count": null,
   "id": "98a49f3c",
   "metadata": {},
   "outputs": [],
   "source": [
    "dane[['Imię', 'Nazwisko']]"
   ]
  },
  {
   "cell_type": "markdown",
   "id": "a1b29826",
   "metadata": {},
   "source": [
    "### Wybór kolumn poprzez ich typ"
   ]
  },
  {
   "cell_type": "markdown",
   "id": "677e8af6",
   "metadata": {},
   "source": [
    "**Jeden typ**"
   ]
  },
  {
   "cell_type": "code",
   "execution_count": null,
   "id": "990f987f",
   "metadata": {},
   "outputs": [],
   "source": [
    "dane.select_dtypes('object')"
   ]
  },
  {
   "cell_type": "markdown",
   "id": "6f360449",
   "metadata": {},
   "source": [
    "**Kilka typów**"
   ]
  },
  {
   "cell_type": "code",
   "execution_count": null,
   "id": "529880b9",
   "metadata": {},
   "outputs": [],
   "source": [
    " dane.select_dtypes(['object', 'datetime'])"
   ]
  },
  {
   "cell_type": "markdown",
   "id": "c55f8400",
   "metadata": {},
   "source": [
    "### Wybór podzbiorów poprzez funkcję `loc`"
   ]
  },
  {
   "cell_type": "markdown",
   "id": "b2efdd53",
   "metadata": {},
   "source": [
    "Funkcja `loc` pozwala na indeksowanie wierszy i kolumn za pomocą ich nazw."
   ]
  },
  {
   "cell_type": "markdown",
   "id": "7c755a0b",
   "metadata": {},
   "source": [
    "**Jeden wiersz**"
   ]
  },
  {
   "cell_type": "code",
   "execution_count": null,
   "id": "fcf305e1",
   "metadata": {},
   "outputs": [],
   "source": [
    "dane.loc['AN01']"
   ]
  },
  {
   "cell_type": "markdown",
   "id": "30022ae4",
   "metadata": {},
   "source": [
    "**Kilka wierszy**"
   ]
  },
  {
   "cell_type": "code",
   "execution_count": null,
   "id": "aedd8996",
   "metadata": {},
   "outputs": [],
   "source": [
    "dane.loc[['AN01', 'KM00']]"
   ]
  },
  {
   "cell_type": "code",
   "execution_count": null,
   "id": "c45133c8",
   "metadata": {},
   "outputs": [],
   "source": [
    "dane.loc['AN01':'KM00']"
   ]
  },
  {
   "cell_type": "markdown",
   "id": "47aa0080",
   "metadata": {},
   "source": [
    "**Jedna komórka**"
   ]
  },
  {
   "cell_type": "code",
   "execution_count": null,
   "id": "d7a65f08",
   "metadata": {},
   "outputs": [],
   "source": [
    "dane.loc['AN01', 'Imię']                       "
   ]
  },
  {
   "cell_type": "markdown",
   "id": "2ad196f2",
   "metadata": {},
   "source": [
    "**Dowolny podzbiór**"
   ]
  },
  {
   "cell_type": "code",
   "execution_count": null,
   "id": "4a775af5",
   "metadata": {},
   "outputs": [],
   "source": [
    "dane.loc[['AN01', 'KM00'], 'Imię']"
   ]
  },
  {
   "cell_type": "code",
   "execution_count": null,
   "id": "8956f29d",
   "metadata": {},
   "outputs": [],
   "source": [
    "dane.loc['AN01', ['Imię', 'Nazwisko']]  "
   ]
  },
  {
   "cell_type": "code",
   "execution_count": null,
   "id": "2bc754c4",
   "metadata": {},
   "outputs": [],
   "source": [
    "dane.loc[['AN01', 'KM00'], ['Imię', 'Nazwisko']]"
   ]
  },
  {
   "cell_type": "code",
   "execution_count": null,
   "id": "528b1485",
   "metadata": {},
   "outputs": [],
   "source": [
    "dane.loc[:'JM00', 'Zarobki':'Stanowisko']    "
   ]
  },
  {
   "cell_type": "markdown",
   "id": "62c0a794",
   "metadata": {},
   "source": [
    "### Wybór podzbiorów poprzez funkcję `filter`"
   ]
  },
  {
   "cell_type": "markdown",
   "id": "706fed52",
   "metadata": {},
   "source": [
    "**Wybieranie kolumn**"
   ]
  },
  {
   "cell_type": "code",
   "execution_count": null,
   "id": "50a1e565",
   "metadata": {},
   "outputs": [],
   "source": [
    "dane.filter(['Imię', 'Nazwisko'])                # poprzez nazwy"
   ]
  },
  {
   "cell_type": "code",
   "execution_count": null,
   "id": "22745cfe",
   "metadata": {},
   "outputs": [],
   "source": [
    "dane.filter(like = 'ko')                         # poprzez obecność w nazwie podstringa"
   ]
  },
  {
   "cell_type": "code",
   "execution_count": null,
   "id": "52eadc2d",
   "metadata": {},
   "outputs": [],
   "source": [
    "dane.filter(regex = 'sko$')                      # poprzez wyrażenie regularne (tu kończące się na \"sko\")"
   ]
  },
  {
   "cell_type": "markdown",
   "id": "b4eb26b7",
   "metadata": {},
   "source": [
    "**Wybieranie wierszy**"
   ]
  },
  {
   "cell_type": "code",
   "execution_count": null,
   "id": "7406fde4",
   "metadata": {},
   "outputs": [],
   "source": [
    "dane.filter(['AN01', 'KM00'], axis = 'rows')     # poprzez nazwy"
   ]
  },
  {
   "cell_type": "code",
   "execution_count": null,
   "id": "41cb59ff",
   "metadata": {},
   "outputs": [],
   "source": [
    "dane.filter(like = 'M0',      axis = 'rows')     # poprzez obecność w nazwie podstringa"
   ]
  },
  {
   "cell_type": "code",
   "execution_count": null,
   "id": "9abc9e9d",
   "metadata": {},
   "outputs": [],
   "source": [
    "dane.filter(regex = '^A',     axis = 'rows')     # poprzez wyrażenie regularne (tu zaczynające się na \"A\")"
   ]
  },
  {
   "cell_type": "markdown",
   "id": "38f26c65",
   "metadata": {},
   "source": [
    "Wszystkie z powyższych opcji odwołujących się do nazw kolumn lub wierszy, mogą zostać wykorzystane do zmiany ich kolejności, poprzez podanie wszystkich kolumn lub wierszy w ustalonym porządku."
   ]
  },
  {
   "cell_type": "markdown",
   "id": "b5df7f61",
   "metadata": {},
   "source": [
    "---\n",
    "\n",
    "### Ćwiczenia"
   ]
  },
  {
   "cell_type": "markdown",
   "id": "868d4a97",
   "metadata": {},
   "source": [
    "1. Wybierz kolumy 'Data urodzenia', 'Zarobki' i 'Premia' odwołując się:\n",
    "\n",
    "* bezpośrednio do ich nazw"
   ]
  },
  {
   "cell_type": "code",
   "execution_count": null,
   "id": "50ffe60d",
   "metadata": {},
   "outputs": [],
   "source": []
  },
  {
   "cell_type": "markdown",
   "id": "544b5819",
   "metadata": {},
   "source": [
    "   * do ich nazw oraz sąsiadowania (użyj slicingu)"
   ]
  },
  {
   "cell_type": "code",
   "execution_count": null,
   "id": "20e546c2",
   "metadata": {},
   "outputs": [],
   "source": []
  },
  {
   "cell_type": "markdown",
   "id": "c1d4850a",
   "metadata": {},
   "source": [
    "   * do ich typów"
   ]
  },
  {
   "cell_type": "code",
   "execution_count": null,
   "id": "430ba537",
   "metadata": {},
   "outputs": [],
   "source": []
  },
  {
   "cell_type": "markdown",
   "id": "e14405d1",
   "metadata": {},
   "source": [
    "   * do tego, że są to jedyne kolumny z literą 'r'."
   ]
  },
  {
   "cell_type": "code",
   "execution_count": null,
   "id": "2eefdc3b",
   "metadata": {},
   "outputs": [],
   "source": []
  },
  {
   "cell_type": "markdown",
   "id": "6a91adbe",
   "metadata": {},
   "source": [
    "2. Wybierz kolumnę 'Stanowisko' dla osób o indeksach 'JM00', 'KM00' i 'MS90', odwołując się:\n",
    "- do nazw indeksów"
   ]
  },
  {
   "cell_type": "code",
   "execution_count": null,
   "id": "9c39f8ac",
   "metadata": {},
   "outputs": [],
   "source": []
  },
  {
   "cell_type": "markdown",
   "id": "1b426147",
   "metadata": {},
   "source": [
    "- do tego, że tylko tych indeksów nazwy kończą się na '0'."
   ]
  },
  {
   "cell_type": "code",
   "execution_count": null,
   "id": "b74add57",
   "metadata": {},
   "outputs": [],
   "source": []
  },
  {
   "cell_type": "markdown",
   "id": "1f3993f1",
   "metadata": {},
   "source": [
    "---"
   ]
  },
  {
   "cell_type": "markdown",
   "id": "030fdf26",
   "metadata": {},
   "source": [
    "## 5. Operacje w ramkach danych"
   ]
  },
  {
   "cell_type": "markdown",
   "id": "355810a9",
   "metadata": {},
   "source": [
    "Na pandas.dataframe można wykonywać podobny zbiór operacji jak na pandas.series, ale w większości przypadków bardziej praktyczne jest zastosowanie tych drugich - na kolumnach ramki danych."
   ]
  },
  {
   "cell_type": "markdown",
   "id": "b090e477",
   "metadata": {},
   "source": [
    "### Operacje matematyczne"
   ]
  },
  {
   "cell_type": "code",
   "execution_count": null,
   "id": "6c9ea7a5",
   "metadata": {},
   "outputs": [],
   "source": [
    "print(dane['Zarobki'] + dane['Premia'])                   # operacje matematyczne\n",
    "print(dane['Zarobki'] * 2)                                # broadcasting\n",
    "print(dane[['Zarobki', 'Premia']] * 2)                    # broadcasting na DataFrame"
   ]
  },
  {
   "cell_type": "markdown",
   "id": "9fd00e20",
   "metadata": {},
   "source": [
    "### Operacje stringowe"
   ]
  },
  {
   "cell_type": "markdown",
   "id": "2ca476a4",
   "metadata": {},
   "source": [
    "https://pandas.pydata.org/docs/reference/series.html#string-handling"
   ]
  },
  {
   "cell_type": "code",
   "execution_count": null,
   "id": "0bef2ef8",
   "metadata": {},
   "outputs": [],
   "source": [
    "print(dane['Nazwisko'] + '-' + dane['Stanowisko'])        # konkatenacja stringów\n",
    "print(dane['Nazwisko'].str.lower())                       # małe litery\n",
    "print(dane['Nazwisko'].str.upper())                       # wielkie litery\n",
    "print(dane['Nazwisko'].str[0:3])                          # podstring \n",
    "print(dane['Nazwisko'].str.replace('ski', 'iak'))         # zamiana podstringa"
   ]
  },
  {
   "cell_type": "markdown",
   "id": "36d5d66e",
   "metadata": {},
   "source": [
    "### Operacje logiczne"
   ]
  },
  {
   "cell_type": "markdown",
   "id": "eda8d10c",
   "metadata": {},
   "source": [
    "**Z operatorami logicznymi**"
   ]
  },
  {
   "cell_type": "code",
   "execution_count": null,
   "id": "8f093615",
   "metadata": {},
   "outputs": [],
   "source": [
    "print(dane['Zarobki'] == (dane['Premia'] + 3000))\n",
    "print(dane['Zarobki'] != (dane['Premia'] + 3000))\n",
    "print(dane['Zarobki'] < (dane['Premia'] + 3000))\n",
    "print(dane['Zarobki'] < 3100)\n",
    "print((dane['Zarobki'] > 3100) & (dane['Zarobki'] < 3800))"
   ]
  },
  {
   "cell_type": "markdown",
   "id": "ac7f621a",
   "metadata": {},
   "source": [
    "**Z funkcjami o wartościach boolowskich**"
   ]
  },
  {
   "cell_type": "code",
   "execution_count": null,
   "id": "1de05508",
   "metadata": {},
   "outputs": [],
   "source": [
    "print(dane['Zarobki'].isin([3100, 3800]))                 # należenie do zbioru\n",
    "print(dane['Imię'].isin(['Jan', 'Andrzej']))           \n",
    "print(dane['Nazwisko'].str.contains('ski'))               # obecność podstringa\n",
    "print(dane['Zarobki'].isna())                             # brak danych"
   ]
  },
  {
   "cell_type": "markdown",
   "id": "200bbdb8",
   "metadata": {},
   "source": [
    "### Mapowanie"
   ]
  },
  {
   "cell_type": "markdown",
   "id": "2b106423",
   "metadata": {},
   "source": [
    "*mapowanie danych* - przekształcanie poszczególnych wartości na inne wartości, zgodnie z podaną instrukcją"
   ]
  },
  {
   "cell_type": "markdown",
   "id": "0b026841",
   "metadata": {},
   "source": [
    "**Przekształcenia liczbowe**:"
   ]
  },
  {
   "cell_type": "code",
   "execution_count": null,
   "id": "518ec049",
   "metadata": {},
   "outputs": [],
   "source": [
    "print(dane['Zarobki'] * 3)                                 # wcześniejszy sposób\n",
    "\n",
    "def razy3(x):\n",
    "    return x * 3\n",
    "\n",
    "print(dane['Zarobki'].map(razy3))                          # argumentem map może być funkcja mapująca\n",
    "\n",
    "print(dane['Zarobki'].map(lambda x: x * 3))                # funkcja \"definiowana w miejscu\", bez nazwy\n",
    "\n",
    "print(dane[['Zarobki', 'Premia']].map(lambda x: x * 3))    # map na DataFrame"
   ]
  },
  {
   "cell_type": "markdown",
   "id": "3b715c4f",
   "metadata": {},
   "source": [
    "**Klasyfikacja**:"
   ]
  },
  {
   "cell_type": "markdown",
   "id": "6744dd00",
   "metadata": {},
   "source": [
    "Na podstawie przedziałów:"
   ]
  },
  {
   "cell_type": "code",
   "execution_count": null,
   "id": "a8ab103d",
   "metadata": {
    "scrolled": true
   },
   "outputs": [],
   "source": [
    "print(dane['Zarobki'].map(lambda x: 'wysokie' if x > 3000 else 'niskie'))      # dychotomizacja zmiennej \n",
    "print(dane['Zarobki'].map(lambda x: 'wysokie' if x > 3300 else (\n",
    "                                    'średnie' if x > 3000 else\n",
    "                                    'niskie')))"
   ]
  },
  {
   "cell_type": "markdown",
   "id": "b62cf1a4",
   "metadata": {},
   "source": [
    "Na podstawie zbiorów:"
   ]
  },
  {
   "cell_type": "code",
   "execution_count": null,
   "id": "8a8bc3c4",
   "metadata": {},
   "outputs": [],
   "source": [
    "print(dane['Stanowisko'].map(lambda x: 'IT'  if x in ['programista', 'analityk'] else 'non-IT'))\n",
    "print(dane['Stanowisko'].map(lambda x: 'IT'  if x in ['programista', 'analityk'] else (\n",
    "                                       'MNG' if x == 'kierownik' else\n",
    "                                       'BSN')))"
   ]
  },
  {
   "cell_type": "markdown",
   "id": "ec06e6fc",
   "metadata": {},
   "source": [
    "Na podstawie poszczególnych wartości:"
   ]
  },
  {
   "cell_type": "code",
   "execution_count": null,
   "id": "e539715f",
   "metadata": {},
   "outputs": [],
   "source": [
    "dane['Stanowisko'].map({'programista':'IT',          # mapowanie przy pomocy słownika - gdy wartości jest wiele\n",
    "                        'analityk'   :'IT',\n",
    "                        'kierownik'  :'MNG',\n",
    "                        'sprzedawca' :'BSN'\n",
    "                       })"
   ]
  },
  {
   "cell_type": "markdown",
   "id": "7c3604c5",
   "metadata": {},
   "source": [
    "**Kodowanie**:"
   ]
  },
  {
   "cell_type": "code",
   "execution_count": null,
   "id": "2df492b3",
   "metadata": {},
   "outputs": [],
   "source": [
    "dane['Stanowisko'].map({'programista':1,             \n",
    "                        'analityk'   :2,\n",
    "                        'kierownik'  :3,\n",
    "                        'sprzedawca' :4\n",
    "                        })"
   ]
  },
  {
   "cell_type": "markdown",
   "id": "a6d07aa3",
   "metadata": {},
   "source": [
    "Kodowanie jest często wykorzystywane do analizy zmiennych porządkowych."
   ]
  },
  {
   "cell_type": "markdown",
   "id": "1ef65b22",
   "metadata": {},
   "source": [
    "---\n",
    "\n",
    "### Ćwiczenia"
   ]
  },
  {
   "cell_type": "markdown",
   "id": "f2582aa2",
   "metadata": {},
   "source": [
    "1. Oblicz, ile wynosiłyby zarobki pracowników, gdyby dać im podwójną premię."
   ]
  },
  {
   "cell_type": "code",
   "execution_count": null,
   "id": "0c235967",
   "metadata": {},
   "outputs": [],
   "source": []
  },
  {
   "cell_type": "markdown",
   "id": "c82db53e",
   "metadata": {},
   "source": [
    "2. Utwórz listę stringów zawierających pierwsze trzy litery imion i nazwisk, np. Anastazja Kowalska -> AnaKow."
   ]
  },
  {
   "cell_type": "code",
   "execution_count": null,
   "id": "48da8c25",
   "metadata": {},
   "outputs": [],
   "source": []
  },
  {
   "cell_type": "markdown",
   "id": "9fc7137a",
   "metadata": {},
   "source": [
    "3. Sklasyfikuj pracowników jako młodszych lub starszych na podstawie tego, czy urodzili się przed rokiem 2000 (dane['Data urodzenia'].dt.year przechowuje rok)."
   ]
  },
  {
   "cell_type": "code",
   "execution_count": null,
   "id": "1c035a10",
   "metadata": {},
   "outputs": [],
   "source": []
  },
  {
   "cell_type": "markdown",
   "id": "097c7919",
   "metadata": {},
   "source": [
    "4. Zakoduj stanowiska na podstawie ich pierwszych liter pisanych z wielkiej litery, np. programista -> P.\n",
    "- za pomocą funkcji na stringach"
   ]
  },
  {
   "cell_type": "code",
   "execution_count": null,
   "id": "446d45f6",
   "metadata": {
    "scrolled": false
   },
   "outputs": [],
   "source": []
  },
  {
   "cell_type": "markdown",
   "id": "30310567",
   "metadata": {},
   "source": [
    "- za pomocą funkcji `map` (oraz słownika)"
   ]
  },
  {
   "cell_type": "code",
   "execution_count": null,
   "id": "bfcfb84d",
   "metadata": {},
   "outputs": [],
   "source": []
  },
  {
   "cell_type": "markdown",
   "id": "21e665b1",
   "metadata": {},
   "source": [
    "---"
   ]
  },
  {
   "cell_type": "markdown",
   "id": "67e346b8",
   "metadata": {},
   "source": [
    "## 6. Filtrowanie"
   ]
  },
  {
   "cell_type": "markdown",
   "id": "421107ea",
   "metadata": {},
   "source": [
    "### Filtrowanie "
   ]
  },
  {
   "cell_type": "markdown",
   "id": "7b1b4318",
   "metadata": {},
   "source": [
    "Jeden warunek:"
   ]
  },
  {
   "cell_type": "code",
   "execution_count": null,
   "id": "f8dc19b4",
   "metadata": {},
   "outputs": [],
   "source": [
    "print(dane['Zarobki'] < 3100)                                     # nie \"dane[['Zarobki']]\" !\n",
    "print(dane[dane['Zarobki'] < 3100])\n",
    "print(dane.query('Zarobki < 3100'))"
   ]
  },
  {
   "cell_type": "code",
   "execution_count": null,
   "id": "71b22f7f",
   "metadata": {},
   "outputs": [],
   "source": [
    "print(dane['Stanowisko'] != \"analityk\")\n",
    "print(dane[dane['Stanowisko'] != \"analityk\"])\n",
    "print(dane.query('Stanowisko != \"analityk\"'))"
   ]
  },
  {
   "cell_type": "markdown",
   "id": "79b4cab4",
   "metadata": {},
   "source": [
    "Kombinacja kilku warunków:"
   ]
  },
  {
   "cell_type": "code",
   "execution_count": null,
   "id": "61add5b0",
   "metadata": {},
   "outputs": [],
   "source": [
    "print(dane[(dane['Zarobki'] < 3100) & (dane['Zarobki'] > 2900)])\n",
    "print(dane.query('Zarobki < 3100 and Zarobki > 2900'))            # & - and, | - or, ~ - not"
   ]
  },
  {
   "cell_type": "markdown",
   "id": "3e46a722",
   "metadata": {},
   "source": [
    "### Subsetting z użyciem filtrowania"
   ]
  },
  {
   "cell_type": "code",
   "execution_count": null,
   "id": "129bc542",
   "metadata": {},
   "outputs": [],
   "source": [
    "print(dane[dane['Zarobki'] < 3100]['Stanowisko'])\n",
    "print(dane['Stanowisko'][dane['Zarobki'] < 3100])\n",
    "\n",
    "print(dane.loc[dane['Zarobki'] < 3100, 'Stanowisko'])  \n",
    "print(dane.query('Zarobki < 3100').filter(['Stanowisko']))  "
   ]
  },
  {
   "cell_type": "code",
   "execution_count": null,
   "id": "ce3cbe7c",
   "metadata": {},
   "outputs": [],
   "source": [
    "print(dane[dane['Zarobki'] < 3100][['Data urodzenia', 'Stanowisko']])\n",
    "print(dane[['Data urodzenia', 'Stanowisko']][dane['Zarobki'] < 3100])\n",
    "\n",
    "print(dane.loc[dane['Zarobki'] < 3100, ['Data urodzenia', 'Stanowisko']])\n",
    "print(dane.query('Zarobki < 3100').filter(['Data urodzenia', 'Stanowisko']))  "
   ]
  },
  {
   "cell_type": "markdown",
   "id": "9094b2ff",
   "metadata": {},
   "source": [
    "## 7. Modyfikacja"
   ]
  },
  {
   "cell_type": "markdown",
   "id": "fd5ce7a1",
   "metadata": {},
   "source": [
    "### Modyfikacja wybranych wartości"
   ]
  },
  {
   "cell_type": "markdown",
   "id": "8e1ec340",
   "metadata": {},
   "source": [
    "**Jedna wartość**"
   ]
  },
  {
   "cell_type": "code",
   "execution_count": null,
   "id": "13bd34cc",
   "metadata": {},
   "outputs": [],
   "source": [
    "print(dane.loc['MS90', 'Stanowisko'])\n",
    "\n",
    "dane.loc['MS90', 'Stanowisko'] = 'kierownik'\n",
    "\n",
    "print(dane.loc['MS90', 'Stanowisko'])"
   ]
  },
  {
   "cell_type": "markdown",
   "id": "e93738bf",
   "metadata": {},
   "source": [
    "**Wiele wartości**"
   ]
  },
  {
   "cell_type": "code",
   "execution_count": null,
   "id": "17670e01",
   "metadata": {},
   "outputs": [],
   "source": [
    "print(dane.loc[['JM00', 'JB95'], 'Premia'] )\n",
    "\n",
    "dane.loc[['JM00', 'JB95'], 'Premia'] = [100, 200]   \n",
    "\n",
    "print(dane.loc[['JM00', 'JB95'], 'Premia'])"
   ]
  },
  {
   "cell_type": "code",
   "execution_count": null,
   "id": "d88a69c4",
   "metadata": {},
   "outputs": [],
   "source": [
    "print(dane.loc[dane['Stanowisko'] == 'sprzedawca', 'Premia'])\n",
    "\n",
    "dane.loc[dane['Stanowisko'] == 'sprzedawca', 'Premia'] = 300          # ta sama wartość dla podzbioru\n",
    "\n",
    "print(dane.loc[dane['Stanowisko'] == 'sprzedawca', 'Premia'])"
   ]
  },
  {
   "cell_type": "code",
   "execution_count": null,
   "id": "07f23cc0",
   "metadata": {},
   "outputs": [],
   "source": [
    "print(dane.loc[dane['Premia'] == 200, 'Zarobki'])\n",
    "\n",
    "dane.loc[dane['Premia'] == 200, 'Zarobki'] = dane.loc[dane['Premia'] == 200, 'Zarobki'].replace(3500, 3400)               # zmiana konkretnej/ych wartości na inne\n",
    "dane.loc[dane['Premia'] == 200, 'Zarobki'] = dane.loc[dane['Premia'] == 200, 'Zarobki'].replace({3100:3300, 2800:2900})\n",
    "\n",
    "print(dane.loc[dane['Premia'] == 200, 'Zarobki'])"
   ]
  },
  {
   "cell_type": "code",
   "execution_count": null,
   "id": "04d9c2db",
   "metadata": {},
   "outputs": [],
   "source": [
    "print(dane[['Zarobki', 'Premia']])\n",
    "\n",
    "dane.replace({'Zarobki':{3300:3100, 2900:2800},                       # zmiana konkretnej/ych wartości na inne w całej kolumnie/ach\n",
    "              'Premia' :{300:250}},\n",
    "             inplace = True)\n",
    "\n",
    "print(dane[['Zarobki', 'Premia']])"
   ]
  },
  {
   "cell_type": "markdown",
   "id": "22e47ca5",
   "metadata": {},
   "source": [
    "`inplace = True` - działanie \"w miejscu\" - z uruchomieniem funkcji ramka w pamięci jest modyfikowana \\\n",
    "`inplace = False` - uruchomienie funkcji nie powoduje zmian w oryginalnej ramce, a tworzy zmodyfikowaną kopię ramki; \\\n",
    "zmiana w oryginalnej ramce wymaga wtedy przypisania wyniku do jej nazwy"
   ]
  },
  {
   "cell_type": "markdown",
   "id": "ab68d2ee",
   "metadata": {},
   "source": [
    "---\n",
    "\n",
    "### Ćwiczenia"
   ]
  },
  {
   "cell_type": "markdown",
   "id": "19c15888",
   "metadata": {},
   "source": [
    "1. Znajdź pracowników, którzy zarabiają co najmniej 3000, ale nie więcej niż 3500 i są programistami lub sprzedawcami."
   ]
  },
  {
   "cell_type": "code",
   "execution_count": null,
   "id": "a682fe50",
   "metadata": {
    "scrolled": true
   },
   "outputs": [],
   "source": []
  },
  {
   "cell_type": "markdown",
   "id": "25dd4ea5",
   "metadata": {},
   "source": [
    "2. Osoby o identyfikatorach AP98 i JB95 ustal kierownikami."
   ]
  },
  {
   "cell_type": "code",
   "execution_count": null,
   "id": "c5d413ce",
   "metadata": {},
   "outputs": [],
   "source": []
  },
  {
   "cell_type": "markdown",
   "id": "2b2420fd",
   "metadata": {},
   "source": [
    "3. Programistom zwiększ premię o 100."
   ]
  },
  {
   "cell_type": "code",
   "execution_count": null,
   "id": "548a9f88",
   "metadata": {},
   "outputs": [],
   "source": []
  },
  {
   "cell_type": "markdown",
   "id": "ca85e99b",
   "metadata": {},
   "source": [
    "4. Nowakom, jeśli zarabiają 3400, zmień ich zarobki na 3700, a jeśli 3500, to na 3800."
   ]
  },
  {
   "cell_type": "code",
   "execution_count": null,
   "id": "b9177458",
   "metadata": {},
   "outputs": [],
   "source": []
  },
  {
   "cell_type": "markdown",
   "id": "db8625d2",
   "metadata": {},
   "source": [
    "5. Zmień wszędzie stanowisko \"analityk\" na \"analityk danych\" (nie modyfikuj danych w pamięci - wyświetl tylko zmodyfikowaną ramkę danych)."
   ]
  },
  {
   "cell_type": "code",
   "execution_count": null,
   "id": "402d43b4",
   "metadata": {},
   "outputs": [],
   "source": []
  },
  {
   "cell_type": "markdown",
   "id": "d8d1111b",
   "metadata": {},
   "source": [
    "---\n",
    "\n",
    "### Dodawanie / Modyfikacja kolumn"
   ]
  },
  {
   "cell_type": "code",
   "execution_count": null,
   "id": "a6199688",
   "metadata": {},
   "outputs": [],
   "source": [
    "dane['A'] = np.random.randint(1, 10, 12)             \n",
    "dane['B'] = 99                                              # jedna wartość dla całej kolumny\n",
    "dane['C'] = dane['A'] + 100                                 # kolumna z przekształcenia innej\n",
    "dane"
   ]
  },
  {
   "cell_type": "code",
   "execution_count": null,
   "id": "d9f58bf5",
   "metadata": {},
   "outputs": [],
   "source": [
    "dane = dane.assign(A2 = np.random.randint(1, 10, 12),                          \n",
    "                   B2 = -99,\n",
    "                   C2 = dane['A'] + 100,\n",
    "                   D2 = lambda df: df['A2'] + 100           # jeśli zmienna, do której się odwołujemy, została \"świeżo\" zdefiniowana,\n",
    "                   )                                        # potrzebujemy funkcji lambda, które \"podstawia\" aktualną ramkę danych\n",
    "dane"
   ]
  },
  {
   "cell_type": "markdown",
   "id": "fe53b6bf",
   "metadata": {},
   "source": [
    "Oba sposoby - odwołanie do kolumny i użycie funkcji `assign`, w przypadku istnienia kolumny o danej nazwie, nadpisują ją, dzięki czemu równie często służą do modyfikacji już istniejącej kolumny."
   ]
  },
  {
   "cell_type": "markdown",
   "id": "3782675f",
   "metadata": {},
   "source": [
    "### Przesuwanie kolumn"
   ]
  },
  {
   "cell_type": "code",
   "execution_count": null,
   "id": "e8ea2cc6",
   "metadata": {},
   "outputs": [],
   "source": [
    "dane.insert(column = 'Nazwisko',                            # nazwa\n",
    "            value  = dane.pop('Nazwisko'),                  # lista wartości \n",
    "            loc    = 0)                                     # nowa pozycja - o indeksie 0\n",
    "dane"
   ]
  },
  {
   "cell_type": "code",
   "execution_count": null,
   "id": "4ca2c01a",
   "metadata": {},
   "outputs": [],
   "source": [
    "dane.insert(column = 'Nazwisko',\n",
    "            value  = dane.pop('Nazwisko'),\n",
    "            loc    = dane.columns.get_loc('Imię') + 1)      # pozycja za kolumną Imię\n",
    "dane"
   ]
  },
  {
   "cell_type": "markdown",
   "id": "784f2496",
   "metadata": {},
   "source": [
    "Powyższa funkcja może być użyta też do zdefiniowania nowej kolumny, gdy chcemy dodać ją w miejscu o określonym indeksie.\n",
    "\n",
    "*Uwaga*! Funkcja `insert` działa \"w miejscu\" - uruchomienie automatycznie dodaje/modyfikuje kolumnę w zapisanej ramce."
   ]
  },
  {
   "cell_type": "markdown",
   "id": "84ccfcce",
   "metadata": {},
   "source": [
    "### Usuwanie kolumn"
   ]
  },
  {
   "cell_type": "code",
   "execution_count": null,
   "id": "362b3c4d",
   "metadata": {},
   "outputs": [],
   "source": [
    "dane.drop(columns = 'A',                                inplace = True)     # jednej kolumny\n",
    "dane.drop(columns = ['B', 'C', 'A2', 'B2', 'C2', 'D2'], inplace = True)     # kilku kolumn\n",
    "\n",
    "dane"
   ]
  },
  {
   "cell_type": "markdown",
   "id": "cba06a0f",
   "metadata": {},
   "source": [
    "### Dodawanie wierszy"
   ]
  },
  {
   "cell_type": "code",
   "execution_count": null,
   "id": "bc584124",
   "metadata": {},
   "outputs": [],
   "source": [
    "dane.loc['BM02'] = ['Barnaba', 'Maślicki', pd.to_datetime('2002-10-05', format = '%Y-%m-%d'), 3000, 100, 'programista']          # jeden wiersz\n",
    "\n",
    "dane = pd.concat([dane,                                                                              # wiele wierszy - pionowa konkatenacja ramek\n",
    "                  pd.DataFrame([['Kajetan', 'Bury',    pd.to_datetime('1999-09-20', format = '%Y-%m-%d'), 2900, 200, 'sprzedawca'],\n",
    "                                ['Renata',  'Tomicka', pd.to_datetime('1990-02-09', format = '%Y-%m-%d'), 3300, 200, 'analityk']],\n",
    "                               index   = ['KB99', 'RT90'],\n",
    "                               columns = dane.columns)],\n",
    "                 axis = 'rows'                                                                       # oś łączenia - wiersze\n",
    "                 )                                                   \n",
    "\n",
    "dane"
   ]
  },
  {
   "cell_type": "markdown",
   "id": "a17e5e7b",
   "metadata": {},
   "source": [
    "### Usuwanie wierszy"
   ]
  },
  {
   "cell_type": "code",
   "execution_count": null,
   "id": "df759749",
   "metadata": {},
   "outputs": [],
   "source": [
    "dane.drop('BM02',           inplace = True)       # jednego wiersza\n",
    "dane.drop(['KB99', 'RT90'], inplace = True)       # kilku wierszy\n",
    "\n",
    "dane"
   ]
  },
  {
   "cell_type": "markdown",
   "id": "0d051879",
   "metadata": {},
   "source": [
    "----\n",
    "\n",
    "### Ćwiczenia"
   ]
  },
  {
   "cell_type": "markdown",
   "id": "4a02dd0c",
   "metadata": {},
   "source": [
    "1. Dodaj dowolną kolumnę do danych."
   ]
  },
  {
   "cell_type": "code",
   "execution_count": null,
   "id": "5d789eaf",
   "metadata": {},
   "outputs": [],
   "source": []
  },
  {
   "cell_type": "markdown",
   "id": "0be4935f",
   "metadata": {},
   "source": [
    "2. Dodaj do danych kolumnę powstałą w oparciu o dodaną przed chwilą."
   ]
  },
  {
   "cell_type": "code",
   "execution_count": null,
   "id": "762ef073",
   "metadata": {},
   "outputs": [],
   "source": []
  },
  {
   "cell_type": "markdown",
   "id": "642684e7",
   "metadata": {},
   "source": [
    "3. Usuń obie kolumny."
   ]
  },
  {
   "cell_type": "code",
   "execution_count": null,
   "id": "6750db66",
   "metadata": {},
   "outputs": [],
   "source": []
  },
  {
   "cell_type": "markdown",
   "id": "b952de71",
   "metadata": {},
   "source": [
    "---"
   ]
  },
  {
   "cell_type": "markdown",
   "id": "986750e0",
   "metadata": {},
   "source": [
    "## 8. Łączenie ramek"
   ]
  },
  {
   "cell_type": "markdown",
   "id": "8f0f0b20",
   "metadata": {},
   "source": [
    "### Konkatenacja"
   ]
  },
  {
   "cell_type": "markdown",
   "id": "ae7bf78c",
   "metadata": {},
   "source": [
    "Przy dodawaniu wierszy podana została pozioma konkatenacja ramek. Ta sama funkcja, ale z argumentem `axis = 'columns'`, konkatenuje w poziomie, łacząc kolumny."
   ]
  },
  {
   "cell_type": "code",
   "execution_count": null,
   "id": "5d10cdea",
   "metadata": {},
   "outputs": [],
   "source": [
    " pd.concat([dane,                                                     \n",
    "            pd.DataFrame({'A':np.random.randint(1, 10, 12),\n",
    "                          'B':-99},\n",
    "                         index = dane.index)],\n",
    "           axis = 'columns')    "
   ]
  },
  {
   "cell_type": "markdown",
   "id": "6ce022cd",
   "metadata": {},
   "source": [
    "Funkcja `concat` nie pozwala na przetwarzanie w tzw. potoku. W takiej sytuacji możemy skorzystać z funkcji `pipe` i podania w argumencie odpowiedniej funkcji."
   ]
  },
  {
   "cell_type": "code",
   "execution_count": null,
   "id": "91db9bf4",
   "metadata": {},
   "outputs": [],
   "source": [
    "dane.pipe(lambda df: pd.concat([df,\n",
    "                               pd.DataFrame({'A2':np.random.randint(1, 10, 12),\n",
    "                                             'B2':-99},\n",
    "                                            index = dane.index)],\n",
    "                               axis = 'columns'))"
   ]
  },
  {
   "cell_type": "markdown",
   "id": "a69c5abb",
   "metadata": {},
   "source": [
    "### Złączenia"
   ]
  },
  {
   "cell_type": "markdown",
   "id": "e23d0a9c",
   "metadata": {},
   "source": [
    "Złączenia tabel polegają na połączeniu tabel na podstawie powiązanych kolumn. \\\n",
    "W złączeniach w przeciwieństwie do konkatenacji, nie wszystkie wiersze sobie odpowiadają."
   ]
  },
  {
   "cell_type": "code",
   "execution_count": null,
   "id": "4cdbda6d",
   "metadata": {},
   "outputs": [],
   "source": [
    "dane_stanowiska = pd.DataFrame({'Stanowisko':['kierownik', 'programista', 'analityk', 'sprzedawca'],\n",
    "                                'Dział':     ['MNG',       'IT',          'IT',       'BSN']})\n",
    "dane_stanowiska"
   ]
  },
  {
   "cell_type": "code",
   "execution_count": null,
   "id": "76d9632e",
   "metadata": {},
   "outputs": [],
   "source": [
    "dane.merge(dane_stanowiska)"
   ]
  },
  {
   "cell_type": "code",
   "execution_count": null,
   "id": "bdc8eee5",
   "metadata": {},
   "outputs": [],
   "source": [
    "dane.merge(dane_stanowiska\n",
    "           ).set_index(dane.index)    # z zachowaniem indeksu (poprzez przypisanie go na nowo)"
   ]
  },
  {
   "cell_type": "markdown",
   "id": "aa9423cd",
   "metadata": {},
   "source": [
    "Dla głębiej zainteresowanych:\n",
    "- o złączeniach w Pythonie: https://kajodata.com/excel-sql-python-powerbi-tableau-baza-wiedzy/baza-wiedzy-python-darmowa-wiedza/jak-dziala-pandas-merge-w-python-przyklad-mmk/\n",
    "- szczegóły funkcji `merge`: https://pandas.pydata.org/docs/reference/api/pandas.merge.html\n",
    "- szczegóły funkcji `join`- funkcji do złączeń na podstawie indeksów: https://pandas.pydata.org/docs/reference/api/pandas.DataFrame.join.html"
   ]
  },
  {
   "cell_type": "markdown",
   "id": "d0d8007c",
   "metadata": {},
   "source": [
    "## 9. Utworzenie kopii ramki"
   ]
  },
  {
   "cell_type": "markdown",
   "id": "ce1348d6",
   "metadata": {},
   "source": [
    "Tak jak w przypadku numpy.array, aby utworzyć niezależną kopię danych, która nie będzie modyfikowana wraz ze swoim oryginałem, należy użyć funkcji `copy`."
   ]
  },
  {
   "cell_type": "code",
   "execution_count": null,
   "id": "38efa8f7",
   "metadata": {},
   "outputs": [],
   "source": [
    "dane2 = dane\n",
    "dane3 = dane.loc[:, :]\n",
    "dane4 = dane.copy()            # funkcja kopiująca\n",
    "dane"
   ]
  },
  {
   "cell_type": "code",
   "execution_count": null,
   "id": "acd194f4",
   "metadata": {},
   "outputs": [],
   "source": [
    "dane['Firma'] = 'ABC' \n",
    "\n",
    "print(dane.columns)\n",
    "print(dane2.columns)           # nie działa !\n",
    "print(dane3.columns)           # działa (choć numpy.array[:,:] nie działa)\n",
    "print(dane4.columns)           # działa "
   ]
  },
  {
   "cell_type": "markdown",
   "id": "30c75285",
   "metadata": {},
   "source": [
    "## 10. Przekształcenia ramki"
   ]
  },
  {
   "cell_type": "code",
   "execution_count": null,
   "id": "94226e6c",
   "metadata": {},
   "outputs": [],
   "source": [
    "dane_wide = plik_excel.parse('przypadki')\n",
    "dane_wide                                                     # format szeroki"
   ]
  },
  {
   "cell_type": "markdown",
   "id": "943addaa",
   "metadata": {},
   "source": [
    "*długi format danych* - wartości zmiennej są w jednej kolumnie; każdy obserwacja ma swój wiersz\n",
    "\n",
    "*szeroki format danych* - wartości zmiennej są w kilku kolumnach; wiersze mają po kilka obserwacji"
   ]
  },
  {
   "cell_type": "markdown",
   "id": "6fd7c2a3",
   "metadata": {},
   "source": [
    "### Dane szerokie$ \\rightarrow$ dane długie"
   ]
  },
  {
   "cell_type": "code",
   "execution_count": null,
   "id": "938716b5",
   "metadata": {},
   "outputs": [],
   "source": [
    "dane_long = dane_wide.melt(value_vars = [1999, 2000, 2001],    # zmienne, które mają być scalone\n",
    "                           var_name   = 'Rok',                 # nazwa scalonej zmiennej\n",
    "                           value_name = 'Przypadki',           # nazwa zmiennej z wartościami scalanych zmiennych\n",
    "                           id_vars    = ['Kraj'])              # zmienne, które pozostawiamy       \n",
    "dane_long                                                      # format długi"
   ]
  },
  {
   "cell_type": "markdown",
   "id": "4f34ae21",
   "metadata": {},
   "source": [
    "### Dane długie $\\rightarrow$ dane szerokie"
   ]
  },
  {
   "cell_type": "code",
   "execution_count": null,
   "id": "b6432548",
   "metadata": {},
   "outputs": [],
   "source": [
    "dane_wide_again = dane_long.pivot(columns = 'Rok',             # zmienna rozdzielona na inne zmienne - jej wartości ich nazwami\n",
    "                                  values  = 'Przypadki',       # zmienna z rozdzielanymi wartościami\n",
    "                                  index   = 'Kraj')            # zmienna, która będzie indeksem\n",
    "dane_wide_again                                                # znów format szeroki"
   ]
  },
  {
   "cell_type": "markdown",
   "id": "1244b46b",
   "metadata": {},
   "source": [
    "### Transpozycja"
   ]
  },
  {
   "cell_type": "markdown",
   "id": "80e039eb",
   "metadata": {},
   "source": [
    "*transpozycja tabeli* - zamiana wierszy i kolumn ze sobą"
   ]
  },
  {
   "cell_type": "code",
   "execution_count": null,
   "id": "081ff57e",
   "metadata": {},
   "outputs": [],
   "source": [
    "dane_wide_again.transpose()"
   ]
  },
  {
   "cell_type": "markdown",
   "id": "b5dd429b",
   "metadata": {},
   "source": [
    "### Sortowanie"
   ]
  },
  {
   "cell_type": "code",
   "execution_count": null,
   "id": "75e82307",
   "metadata": {},
   "outputs": [],
   "source": [
    "print(dane_long.sort_values('Przypadki'))                      # po kolumnie\n",
    "print(dane_long.sort_values('Przypadki', ascending = False,    # po kolumnie malejąco\n",
    "                            #inplace = True\n",
    "                            ))   "
   ]
  },
  {
   "cell_type": "code",
   "execution_count": null,
   "id": "b654ba16",
   "metadata": {},
   "outputs": [],
   "source": [
    "print(dane_long.sort_values(['Rok', 'Przypadki']))                            # po kolumnach\n",
    "print(dane_long.sort_values(['Rok', 'Przypadki'], ascending = False))         # po kolumnach malejąco\n",
    "print(dane_long.sort_values(['Rok', 'Przypadki'], ascending = [False, True])) # po kolumnach, odpowiednio malejąco i rosnąco\n",
    "print(dane_long.sort_values(['Przypadki', 'Rok'], ascending = [True, False])) # po kolumnach, ale inna kolejność -> inny wynik"
   ]
  },
  {
   "cell_type": "code",
   "execution_count": null,
   "id": "59083136",
   "metadata": {},
   "outputs": [],
   "source": [
    "print(dane.head())\n",
    "print(dane.head().sort_index())                                # po indeksach\n",
    "print(dane.head().sort_index(ascending = False))               # po indeksach malejąco"
   ]
  },
  {
   "cell_type": "markdown",
   "id": "bd90ba27",
   "metadata": {},
   "source": [
    "## 11. Modyfikacja etykiet "
   ]
  },
  {
   "cell_type": "markdown",
   "id": "0f91861b",
   "metadata": {},
   "source": [
    "### Usunięcie etykiet indeksów"
   ]
  },
  {
   "cell_type": "code",
   "execution_count": null,
   "id": "df3e37a5",
   "metadata": {},
   "outputs": [],
   "source": [
    "dane_wide_again.reset_index()                                  # z przeniesieniem ich do pierwszej kolumny"
   ]
  },
  {
   "cell_type": "code",
   "execution_count": null,
   "id": "6f0ecc24",
   "metadata": {},
   "outputs": [],
   "source": [
    "dane_wide_again.reset_index(drop = True,                       # z odrzuceniem ich\n",
    "                            #inplace = True\n",
    "                            )"
   ]
  },
  {
   "cell_type": "markdown",
   "id": "e843cb6c",
   "metadata": {},
   "source": [
    "### Zmiana etykiet indeksów"
   ]
  },
  {
   "cell_type": "code",
   "execution_count": null,
   "id": "96930504",
   "metadata": {},
   "outputs": [],
   "source": [
    "dane_wide_again.set_index(pd.Series([1, 2, 3]),                # podana lista\n",
    "                          #inplace = True\n",
    "                          )     "
   ]
  },
  {
   "cell_type": "code",
   "execution_count": null,
   "id": "905c99f3",
   "metadata": {},
   "outputs": [],
   "source": [
    "dane_wide_again.reset_index().set_index('Kraj')                # podana zmienna"
   ]
  },
  {
   "cell_type": "markdown",
   "id": "3b938bf0",
   "metadata": {},
   "source": [
    "### Zmiana nazw kolumn"
   ]
  },
  {
   "cell_type": "code",
   "execution_count": null,
   "id": "bdf82b91",
   "metadata": {},
   "outputs": [],
   "source": [
    "dane_wide.rename(columns = {1999:'1999', 2000:'2001', 2001:'2001'},   # słownik wszystkich lub niektórych nazw zmiennych\n",
    "                 #inplace = True\n",
    "                 )  "
   ]
  },
  {
   "cell_type": "code",
   "execution_count": null,
   "id": "f1fd1150",
   "metadata": {},
   "outputs": [],
   "source": [
    "dane_wide.rename(columns = lambda x: str(x))         # funkcja przekształcająca (efekt tutaj jak powyżej) [funkcja na każdym obiekcie, nie na pandas.series]"
   ]
  },
  {
   "cell_type": "code",
   "execution_count": null,
   "id": "2a872a8b",
   "metadata": {},
   "outputs": [],
   "source": [
    "dane_long.rename(columns = lambda x: x.replace('a', ':)'))           "
   ]
  },
  {
   "cell_type": "markdown",
   "id": "84696528",
   "metadata": {},
   "source": [
    "### Zmiana nazw list etykiet"
   ]
  },
  {
   "cell_type": "code",
   "execution_count": null,
   "id": "49ab8e61",
   "metadata": {},
   "outputs": [],
   "source": [
    "dane_wide_again.rename_axis('Czas',    axis = 'columns', inplace = True)\n",
    "dane_wide_again.rename_axis('Państwo', axis = 'index',   inplace = True)\n",
    "\n",
    "print(dane_wide_again.index.name, dane_wide_again.columns.name)\n",
    "dane_wide_again"
   ]
  },
  {
   "cell_type": "markdown",
   "id": "1c6e8304",
   "metadata": {},
   "source": [
    "---\n",
    "\n",
    "### Ćwiczenia"
   ]
  },
  {
   "cell_type": "markdown",
   "id": "7e31b900",
   "metadata": {},
   "source": [
    "1. Zmień nazwę kolumny \"Zarobki\" na \"Pensja\"."
   ]
  },
  {
   "cell_type": "code",
   "execution_count": null,
   "id": "0c74ae94",
   "metadata": {},
   "outputs": [],
   "source": []
  },
  {
   "cell_type": "markdown",
   "id": "44c73945",
   "metadata": {},
   "source": [
    "2. Zmień nazwy kolumn na pisane małą literą, a spacje zamień na \"_\"."
   ]
  },
  {
   "cell_type": "code",
   "execution_count": null,
   "id": "6ba10df8",
   "metadata": {},
   "outputs": [],
   "source": []
  },
  {
   "cell_type": "markdown",
   "id": "d84b98b8",
   "metadata": {},
   "source": [
    "3. Posortuj pracowników rosnąco po nazwisku i malejąco po dacie urodzenia."
   ]
  },
  {
   "cell_type": "code",
   "execution_count": null,
   "id": "205a39ef",
   "metadata": {},
   "outputs": [],
   "source": []
  },
  {
   "cell_type": "markdown",
   "id": "a8a5a782",
   "metadata": {},
   "source": [
    "---\n",
    "\n",
    "# Najważniejsze funkcje\n",
    "\n"
   ]
  },
  {
   "cell_type": "markdown",
   "id": "78b798be",
   "metadata": {},
   "source": [
    "- read_csv\n",
    "- info\n",
    "- head\n",
    "- df[cols]\n",
    "- loc\n",
    "- filter\n",
    "- map\n",
    "- query / df[condition]\n",
    "- replace\n",
    "- assign / df[col_name] = vals_list\n",
    "- drop\n",
    "- concat\n",
    "- copy\n",
    "- sort_values\n",
    "- sort_index\n",
    "- rename\n",
    "- set_index\n",
    "- reset_index"
   ]
  },
  {
   "cell_type": "markdown",
   "id": "0177b4f4",
   "metadata": {},
   "source": [
    "---\n",
    "\n",
    "# Więcej funkcji"
   ]
  },
  {
   "cell_type": "markdown",
   "id": "04b73ef9",
   "metadata": {},
   "source": [
    "`pandas.DataFrame`: https://pandas.pydata.org/docs/reference/frame.html\n",
    "\n",
    "`pandas.Series`:    https://pandas.pydata.org/docs/reference/series.html"
   ]
  }
 ],
 "metadata": {
  "kernelspec": {
   "display_name": "Python 3 (ipykernel)",
   "language": "python",
   "name": "python3"
  },
  "language_info": {
   "codemirror_mode": {
    "name": "ipython",
    "version": 3
   },
   "file_extension": ".py",
   "mimetype": "text/x-python",
   "name": "python",
   "nbconvert_exporter": "python",
   "pygments_lexer": "ipython3",
   "version": "3.10.2"
  },
  "vp": {
   "vp_config_version": "1.0.0",
   "vp_menu_width": 273,
   "vp_note_display": false,
   "vp_note_width": 0,
   "vp_position": {
    "width": 278
   },
   "vp_section_display": false,
   "vp_signature": "VisualPython"
  }
 },
 "nbformat": 4,
 "nbformat_minor": 5
}
