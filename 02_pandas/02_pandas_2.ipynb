{
 "cells": [
  {
   "cell_type": "markdown",
   "id": "2f784e95",
   "metadata": {},
   "source": [
    "Instalacja pakietu pyjanitor:"
   ]
  },
  {
   "cell_type": "code",
   "execution_count": null,
   "id": "d919ec05",
   "metadata": {},
   "outputs": [],
   "source": [
    "%pip install pyjanitor"
   ]
  },
  {
   "cell_type": "markdown",
   "id": "ce95ab0c",
   "metadata": {},
   "source": [
    "---"
   ]
  },
  {
   "cell_type": "code",
   "execution_count": null,
   "id": "be08b3b9",
   "metadata": {},
   "outputs": [],
   "source": [
    "# załadowanie bibliotek\n",
    "\n",
    "import pandas as pd\n",
    "import numpy as np\n",
    "import janitor"
   ]
  },
  {
   "cell_type": "code",
   "execution_count": null,
   "id": "6912969e",
   "metadata": {},
   "outputs": [],
   "source": [
    "# wczytanie danych\n",
    "\n",
    "dane = pd.ExcelFile('data.xlsx').parse('pracownicy', index_col = 0)                    "
   ]
  },
  {
   "cell_type": "code",
   "execution_count": null,
   "id": "0b57812e",
   "metadata": {},
   "outputs": [],
   "source": [
    "# zanieczyszczenie danych\n",
    "\n",
    "import warnings\n",
    "\n",
    "warnings.simplefilter(category = FutureWarning, action = 'ignore')\n",
    "\n",
    "dane_brudne = dane.rename(columns = {'Stanowisko':'Zawód'}\n",
    "                 ).assign(**{'Imię'                 : lambda df: df['Imię'].where(df.index != 'AN01', 'Alex'),\n",
    "                             'Płeć'                 : ['kobieta', 'mężczyzna', 'inna', 'kobieta', 'kobieta', 'mężczyzna', 'mężczyzna', 'kobieta', 'mężczyzna', 'mężczyzna', 'mężczyzna', 'mężczyzna'],\n",
    "                             'Data urodzenia'       : lambda df: df['Data urodzenia'].astype(str),\n",
    "                             'Zarobki'              : lambda df: df.index.map(lambda x: 3100000   if x == 'BS99' else (\n",
    "                                                                                        '4400 zł' if x == 'LW89' else df.loc[x, 'Zarobki'])),\n",
    "                             'Zawód'                : lambda df: df.index.map(lambda x: 'analityk  danych' if x == 'KM00' else (\n",
    "                                                                                        'Analityk'         if x == 'AN01' else (\n",
    "                                                                                        'analtyk'          if x == 'ŁG96' else (\n",
    "                                                                                        'analityk danych'  if x == 'AP98' else (\n",
    "                                                                                        'programista '     if x == 'AK94' else df.loc[x, 'Zawód']))))),\n",
    "                             'Multisport'           : ['Tak', 'Tak', 'Nie', 'Nie', '-', 'Tak', 'Nie', 'Tak', 'Tak', 'Nie wiem', 'Nie', 'Tak'], \n",
    "                             'Hobby'                : ['Sport', 'Nauka', None, 'Inne: Sztuka', 'Sport', 'Podróże', 'Inne: Wędkarstwo', 'Inne: Historia', 'Nauka', 'Inne: kultura', None, 'Podróże'],\n",
    "                             'Prawie pusta kolumna' : [None, None, 1490, None, 980, None, None, None, None, 3, None, None],\n",
    "                             'Pusta kolumna'        : None,\n",
    "                             'Jedna wartość'        : -7,\n",
    "                             }\n",
    "                 ).pipe(lambda df: df.insert(dane.columns.get_loc('Nazwisko') + 1, 'Płeć', df.pop('Płeć')) or df\n",
    "                 ).pipe(lambda df: pd.concat([df.loc[:'AP98'],\n",
    "                                              df.loc['JM00':'AP98'],\n",
    "                                              df.loc['WN88':],\n",
    "                                              pd.DataFrame([np.hstack([[np.nan] * 10, None, np.nan])], index = ['AB12'], columns = df.columns, dtype = 'object')])\n",
    "                 )\n",
    "\n",
    "dane = dane_brudne.copy()"
   ]
  },
  {
   "cell_type": "markdown",
   "id": "eb6d4333",
   "metadata": {},
   "source": [
    "---"
   ]
  },
  {
   "cell_type": "markdown",
   "id": "e81c53da",
   "metadata": {},
   "source": [
    "# Czyszczenie danych"
   ]
  },
  {
   "cell_type": "markdown",
   "id": "98623d56",
   "metadata": {},
   "source": [
    "**czyszczenie danych** (ang. *data cleaning*) - przygotowanie danych do przetworzenia i analizy danych, ich uporządkowanie i uspójnienie"
   ]
  },
  {
   "cell_type": "markdown",
   "id": "cdb45088",
   "metadata": {},
   "source": [
    "**Elementy procesu czyszczenia danych**:\n",
    "\n",
    "1. Uporządkowanie zbioru kolumn\n",
    "\n",
    "- czyszczenie nazw\n",
    "    - oczyszczenie stringów\n",
    "    - zmiana niejasnych i niespójnych nazw\n",
    "    - dodanie prefiksów do nazw pokrewnych kolumn\n",
    "    \n",
    "- zmiana kolejności kolumn\n",
    "\n",
    "2. Usunięcie zbędnych wierszy i kolumn\n",
    "\n",
    "- usunięcie pustych wierszy\n",
    "- usunięcie pustych kolumn\n",
    "- usunięcie kolumn z jedną wartością\n",
    "- usunięcie wierszy duplikatów\n",
    "\n",
    "3. Poprawa poszczególnych wartości\n",
    "\n",
    "- usunięcie błędów w danych \n",
    "- usunięcie braków w danych \n",
    "\n",
    "4. Poprawa typów kolumn\n",
    "\n",
    "\n",
    "\n",
    "5.* Przekształcenie danych do postaci tidy\n"
   ]
  },
  {
   "cell_type": "markdown",
   "id": "e8d81899",
   "metadata": {},
   "source": [
    "Najważniejszymi spośród nich są usunięcie błędnych danych, zmiana błędnych typów kolumn i usunięcie wierszy duplikatów, ponieważ często bez ich wykonania analiza nie jest możliwa.\n",
    "\n",
    "**Uwaga!** Nie wszystkie kroki można wykonać zawsze w tej samej kolejności, czasem trzeba wykonywać je naprzemiennie, powtarzając niektóre z nich."
   ]
  },
  {
   "cell_type": "markdown",
   "id": "3909d2c5",
   "metadata": {},
   "source": [
    "# 0. Wstępna inspekcja danych"
   ]
  },
  {
   "cell_type": "code",
   "execution_count": null,
   "id": "b7f6cbf7",
   "metadata": {},
   "outputs": [],
   "source": [
    "dane.head()"
   ]
  },
  {
   "cell_type": "code",
   "execution_count": null,
   "id": "10d9089d",
   "metadata": {},
   "outputs": [],
   "source": [
    "dane.info()"
   ]
  },
  {
   "cell_type": "markdown",
   "id": "a82d9368",
   "metadata": {},
   "source": [
    "## 1. Uporządkowanie zbioru kolumn"
   ]
  },
  {
   "cell_type": "code",
   "execution_count": null,
   "id": "42aaa0a9",
   "metadata": {},
   "outputs": [],
   "source": [
    "# nazwy i kolejność kolumn\n",
    "\n",
    "dane.columns"
   ]
  },
  {
   "cell_type": "markdown",
   "id": "86a81667",
   "metadata": {},
   "source": [
    "### Czyszczenie nazw"
   ]
  },
  {
   "cell_type": "markdown",
   "id": "7ce2ceb6",
   "metadata": {},
   "source": [
    "Do procesu czyszczenia nazw należy zwykle m.in.:\n",
    "- zamiana liter na małe\n",
    "- zastąpienie spacji znakiem \"_\"\n",
    "- usunięcie specyficznych znaków, jak polskie czy specjalne - pozostawienie samych liter, cyfr, \"_\" i \".\"\n",
    "- zmiana niejasnych lub niespójnych nazw na bardziej jasne lub spójne\n",
    "- w przypadku kolumn należących do jakichś grup, dodanie do ich nazw prefiksu"
   ]
  },
  {
   "cell_type": "markdown",
   "id": "b1726a4b",
   "metadata": {},
   "source": [
    "**Oczyszczenie stringów** - usunięcie wielkich litery, spacji, polskich znaków **:**"
   ]
  },
  {
   "cell_type": "code",
   "execution_count": null,
   "id": "59a8beca",
   "metadata": {},
   "outputs": [],
   "source": [
    "# gdyby nie było pakietu janitor\n",
    "\n",
    "dane.rename(columns = dict(zip(dane.columns, dane.columns.str.strip(\n",
    "                                                        ).str.lower(\n",
    "                                                        ).str.replace({' ':'_', 'ł':'l'}\n",
    "                                                        ).str.normalize('NFKD').str.encode('ascii', errors = 'ignore').str.decode('utf-8'))))"
   ]
  },
  {
   "cell_type": "code",
   "execution_count": null,
   "id": "856c613d",
   "metadata": {},
   "outputs": [],
   "source": [
    "# z pakietem janitor\n",
    "\n",
    "dane = dane.rename(columns = lambda x: x.strip(                      # usunięcie białych znaków (np. spacje) z początków i końców stringów\n",
    "                                       ).replace('ł', 'l'))          # jeśli polskie znaki, konieczne, bo poniższa funkcja nie usuwa \"ł\" \n",
    "\n",
    "dane = dane.clean_names()                                            # funkcja czyszcząca nazwy z pakietu janitor\n",
    "dane"
   ]
  },
  {
   "cell_type": "markdown",
   "id": "42cc29af",
   "metadata": {},
   "source": [
    "**Zmiana niejasnych i niespójnych nazw :**"
   ]
  },
  {
   "cell_type": "code",
   "execution_count": null,
   "id": "6f6f984f",
   "metadata": {},
   "outputs": [],
   "source": [
    "dane.rename(columns = {'zarobki'   :'pensja',\n",
    "                       'zawod'     :'stanowisko',\n",
    "                       'multisport':'czy_multisport'},\n",
    "            inplace = True)\n",
    "dane"
   ]
  },
  {
   "cell_type": "markdown",
   "id": "be8ff715",
   "metadata": {},
   "source": [
    "**Dodanie prefiksów do nazw pokrewnych kolumn :**"
   ]
  },
  {
   "cell_type": "code",
   "execution_count": null,
   "id": "6e77d2a8",
   "metadata": {},
   "outputs": [],
   "source": [
    "cols_with_prefix = dane.loc[:, 'imie':'data_urodzenia'].columns\n",
    "prefix = 'dane_osobiste.'\n",
    "\n",
    "dane.rename(columns = lambda x: prefix + x if x in cols_with_prefix else x,\n",
    "            #inplace = True\n",
    "           )"
   ]
  },
  {
   "cell_type": "markdown",
   "id": "172d7e6f",
   "metadata": {},
   "source": [
    "### Zmiana kolejności kolumn"
   ]
  },
  {
   "cell_type": "code",
   "execution_count": null,
   "id": "e74b350b",
   "metadata": {},
   "outputs": [],
   "source": [
    "dane = dane.filter(['nazwisko',\n",
    "                    'imie',\n",
    "                    'plec',\n",
    "                    'data_urodzenia',\n",
    "                    'stanowisko',\n",
    "                    'pensja',\n",
    "                    'premia',\n",
    "                    'czy_multisport',\n",
    "                    'hobby',\n",
    "                    'jedna_wartosc',\n",
    "                    'prawie_pusta_kolumna',\n",
    "                    'pusta_kolumna'])\n",
    "dane"
   ]
  },
  {
   "cell_type": "code",
   "execution_count": null,
   "id": "32e6b2da",
   "metadata": {},
   "outputs": [],
   "source": [
    "# z grupą kolumn z prefiksem\n",
    "\n",
    "dane.rename(columns = lambda x: prefix + x if x in cols_with_prefix else x\n",
    "   ).filter(np.hstack(['pensja',\n",
    "                       prefix + cols_with_prefix,   # umieszczenie grupy kolumn\n",
    "                       'stanowisko',\n",
    "                       'premia']).tolist())"
   ]
  },
  {
   "cell_type": "markdown",
   "id": "35326e45",
   "metadata": {},
   "source": [
    "## 2. Usunięcie zbędnych wierszy i kolumn"
   ]
  },
  {
   "cell_type": "markdown",
   "id": "9b3721fa",
   "metadata": {},
   "source": [
    "Do zbędnych kolumn należą:\n",
    "- puste kolumny\n",
    "- kolumny z jedną wartością"
   ]
  },
  {
   "cell_type": "code",
   "execution_count": null,
   "id": "f6672946",
   "metadata": {},
   "outputs": [],
   "source": [
    "# liczba różnych wartości w kolumnach\n",
    "\n",
    "dane.nunique()"
   ]
  },
  {
   "cell_type": "markdown",
   "id": "a7627243",
   "metadata": {},
   "source": [
    "Do zbędnych wierszy należą:\n",
    "- puste wiersze\n",
    "- wiersze duplikaty"
   ]
  },
  {
   "cell_type": "code",
   "execution_count": null,
   "id": "dc8111d6",
   "metadata": {},
   "outputs": [],
   "source": [
    "# liczba różnych wartości w wierszach\n",
    "\n",
    "dane.nunique(axis = 'columns')"
   ]
  },
  {
   "cell_type": "markdown",
   "id": "9ce8febe",
   "metadata": {},
   "source": [
    "### Usunięcie pustych wierszy i kolumn"
   ]
  },
  {
   "cell_type": "code",
   "execution_count": null,
   "id": "bd951513",
   "metadata": {},
   "outputs": [],
   "source": [
    "# gdy mamy domyślne indeksy\n",
    "\n",
    "dane.remove_empty()"
   ]
  },
  {
   "cell_type": "code",
   "execution_count": null,
   "id": "0cf1613a",
   "metadata": {
    "scrolled": true
   },
   "outputs": [],
   "source": [
    "# gdy mamy zdefiniowane indeksy\n",
    "\n",
    "dane.dropna(axis = 'index',   how = 'all', inplace = True)\n",
    "dane.dropna(axis = 'columns', how = 'all', inplace = True)\n",
    "dane"
   ]
  },
  {
   "cell_type": "markdown",
   "id": "c7801ced",
   "metadata": {},
   "source": [
    "### Usunięcie kolumn z jedną wartością"
   ]
  },
  {
   "cell_type": "code",
   "execution_count": null,
   "id": "21d0189e",
   "metadata": {},
   "outputs": [],
   "source": [
    "def remove_constant(df):\n",
    "    return df.loc[:, (df != df.loc[df.index[0]]).any()]\n",
    "\n",
    "dane = remove_constant(dane)\n",
    "dane"
   ]
  },
  {
   "cell_type": "markdown",
   "id": "d505f6ba",
   "metadata": {},
   "source": [
    "### Usunięcie wierszy duplikatów"
   ]
  },
  {
   "cell_type": "code",
   "execution_count": null,
   "id": "7db23b34",
   "metadata": {},
   "outputs": [],
   "source": [
    "# czy wiersze są duplikatami\n",
    "\n",
    "dane.duplicated()"
   ]
  },
  {
   "cell_type": "code",
   "execution_count": null,
   "id": "c613a90a",
   "metadata": {},
   "outputs": [],
   "source": [
    "dane = dane.drop_duplicates()\n",
    "dane"
   ]
  },
  {
   "cell_type": "markdown",
   "id": "7729a5e5",
   "metadata": {},
   "source": [
    "## 3. Poprawa poszczególnych wartości"
   ]
  },
  {
   "cell_type": "markdown",
   "id": "df3574fb",
   "metadata": {},
   "source": [
    "W zanieczyszczonych danych trzeba zwykle pozbyć się wartości błędnych i brakujących."
   ]
  },
  {
   "cell_type": "markdown",
   "id": "68a71a49",
   "metadata": {},
   "source": [
    "### Obsługa braków w danych "
   ]
  },
  {
   "cell_type": "code",
   "execution_count": null,
   "id": "cceaf996",
   "metadata": {},
   "outputs": [],
   "source": [
    "# liczba braków danych w kolumnach\n",
    "\n",
    "len(dane) - dane.count()"
   ]
  },
  {
   "cell_type": "markdown",
   "id": "f1181fae",
   "metadata": {},
   "source": [
    "**1. Ujednolicenie**"
   ]
  },
  {
   "cell_type": "markdown",
   "id": "3f198cd3",
   "metadata": {},
   "source": [
    "pd.DataFrame często zawiera \"NumPy-owy\" brak danych - np.NaN (Not a Number), ale czasem zawiera też \"Pythonowy\" - None. Należy je ujednolicić do np.NaN."
   ]
  },
  {
   "cell_type": "code",
   "execution_count": null,
   "id": "7841fd1f",
   "metadata": {},
   "outputs": [],
   "source": [
    "dane = dane.replace({None: np.nan})\n",
    "dane"
   ]
  },
  {
   "cell_type": "markdown",
   "id": "ac39d898",
   "metadata": {},
   "source": [
    "**2a. Usunięcie**\n",
    "\n",
    "- **Usunięcie wierszy z co najmniej 1 brakiem**"
   ]
  },
  {
   "cell_type": "code",
   "execution_count": null,
   "id": "78b9de49",
   "metadata": {},
   "outputs": [],
   "source": [
    "dane.dropna()"
   ]
  },
  {
   "cell_type": "markdown",
   "id": "afe903fe",
   "metadata": {},
   "source": [
    "- **Usunięcie kolumn z za dużą liczbą braków**"
   ]
  },
  {
   "cell_type": "code",
   "execution_count": null,
   "id": "fb49a4ee",
   "metadata": {},
   "outputs": [],
   "source": [
    "thresh_percent = 0.3        # co najmniej taki odsetek ma być niepustych wartości w kolumnie\n",
    "\n",
    "dane.dropna(thresh = thresh_percent * len(dane), axis = 'columns',\n",
    "            inplace = True\n",
    "           )\n",
    "dane"
   ]
  },
  {
   "cell_type": "markdown",
   "id": "13ff65ba",
   "metadata": {},
   "source": [
    "**2b. Imputacja (uzupełnienie)**"
   ]
  },
  {
   "cell_type": "code",
   "execution_count": null,
   "id": "05b9aebd",
   "metadata": {},
   "outputs": [],
   "source": [
    "dane = dane.impute(['hobby'], '')\n",
    "dane"
   ]
  },
  {
   "cell_type": "markdown",
   "id": "210218fb",
   "metadata": {},
   "source": [
    "Metod imputacji brakujących danych wg określonych algorytmów jest wiele. Pozwala to na nieutracenie pozostałych wartości przy niedużej modyfikacji zebranych danych."
   ]
  },
  {
   "cell_type": "markdown",
   "id": "e98a3384",
   "metadata": {},
   "source": [
    "### Usunięcie błędnych danych"
   ]
  },
  {
   "cell_type": "markdown",
   "id": "740de04c",
   "metadata": {},
   "source": [
    "Aby wyłapać i usunąć błędne dane, często trzeba przeanalizować wartości każdej z kolumn. Pomocna jest przy tym tabela częstości danej zmiennej (funkcja value_counts)."
   ]
  },
  {
   "cell_type": "markdown",
   "id": "df274fae",
   "metadata": {},
   "source": [
    "**Nazwisko**"
   ]
  },
  {
   "cell_type": "code",
   "execution_count": null,
   "id": "8b3345c1",
   "metadata": {},
   "outputs": [],
   "source": [
    "dane['nazwisko'].value_counts(dropna = False)"
   ]
  },
  {
   "cell_type": "markdown",
   "id": "ef100ce3",
   "metadata": {},
   "source": [
    "**Imię**"
   ]
  },
  {
   "cell_type": "code",
   "execution_count": null,
   "id": "71ac23a7",
   "metadata": {},
   "outputs": [],
   "source": [
    "dane['imie'].value_counts(dropna = False)"
   ]
  },
  {
   "cell_type": "markdown",
   "id": "741a3956",
   "metadata": {},
   "source": [
    "**Płeć**"
   ]
  },
  {
   "cell_type": "code",
   "execution_count": null,
   "id": "11180619",
   "metadata": {},
   "outputs": [],
   "source": [
    "dane['plec'].value_counts(dropna = False)"
   ]
  },
  {
   "cell_type": "code",
   "execution_count": null,
   "id": "7320e23d",
   "metadata": {},
   "outputs": [],
   "source": [
    "dane"
   ]
  },
  {
   "cell_type": "code",
   "execution_count": null,
   "id": "860016be",
   "metadata": {},
   "outputs": [],
   "source": [
    "dane['plec'] = dane['plec'].str[0].str.upper()    # zakodowanie zmiennej nominalnej\n",
    "dane['plec'].value_counts(dropna = False)"
   ]
  },
  {
   "cell_type": "markdown",
   "id": "399b44dd",
   "metadata": {},
   "source": [
    "**Data urodzenia**"
   ]
  },
  {
   "cell_type": "code",
   "execution_count": null,
   "id": "bb7cf40b",
   "metadata": {},
   "outputs": [],
   "source": [
    "dane['data_urodzenia'].value_counts(dropna = False)"
   ]
  },
  {
   "cell_type": "markdown",
   "id": "85178eed",
   "metadata": {},
   "source": [
    "**Stanowisko**"
   ]
  },
  {
   "cell_type": "code",
   "execution_count": null,
   "id": "e7ca4662",
   "metadata": {},
   "outputs": [],
   "source": [
    "dane['stanowisko'].value_counts(dropna = False)"
   ]
  },
  {
   "cell_type": "code",
   "execution_count": null,
   "id": "bdf96e24",
   "metadata": {},
   "outputs": [],
   "source": [
    "dane['stanowisko'].unique()                         # różne wartości zmiennej"
   ]
  },
  {
   "cell_type": "code",
   "execution_count": null,
   "id": "dda98161",
   "metadata": {},
   "outputs": [],
   "source": [
    "dane['stanowisko'] = dane['stanowisko'].str.lower(                                                                                    # małe litery\n",
    "                                      ).str.strip(                                                                                    # usunięcie białych znaków na początku i końcu stringów\n",
    "                                      ).mask(dane['stanowisko'].isin(['analityk  danych', 'analityk danych', 'analtyk']), 'analityk') # zmiana błędnych wartości na poprawną (można też z replace)\n",
    "dane['stanowisko'].value_counts(dropna = False)"
   ]
  },
  {
   "cell_type": "markdown",
   "id": "d092514d",
   "metadata": {},
   "source": [
    "**Pensja**"
   ]
  },
  {
   "cell_type": "code",
   "execution_count": null,
   "id": "762a7701",
   "metadata": {},
   "outputs": [],
   "source": [
    "dane['pensja'].value_counts(dropna = False)"
   ]
  },
  {
   "cell_type": "code",
   "execution_count": null,
   "id": "1fbcd3bc",
   "metadata": {},
   "outputs": [],
   "source": [
    "dane['pensja'] = dane['pensja'].astype(str).str.replace(r'\\D', '', regex = True)    # usunięcie znaków, które nie są cyfrą (wyrażenie regularne: \\D - znaki inne niż cyfry (\\d - cyfry (digit))"
   ]
  },
  {
   "cell_type": "code",
   "execution_count": null,
   "id": "a9575f64",
   "metadata": {},
   "outputs": [],
   "source": [
    "dane['pensja'].astype(int).describe().round(2)                                      # główne statystyki opisowe do wykrycia obserwacji odstających"
   ]
  },
  {
   "cell_type": "code",
   "execution_count": null,
   "id": "80b7f892",
   "metadata": {},
   "outputs": [],
   "source": [
    "dane['pensja'] = dane['pensja'].mask(dane['pensja'].astype(float) > 50000, np.nan)  # zmiana wartości odstających (> 50000) na brak w danych \n",
    "dane['pensja'].astype(float).describe()"
   ]
  },
  {
   "cell_type": "code",
   "execution_count": null,
   "id": "59d5dde9",
   "metadata": {},
   "outputs": [],
   "source": [
    "dane['pensja'].astype(float).value_counts(dropna = False)"
   ]
  },
  {
   "cell_type": "markdown",
   "id": "61a5184b",
   "metadata": {},
   "source": [
    "**Premia**"
   ]
  },
  {
   "cell_type": "code",
   "execution_count": null,
   "id": "f8cf6a84",
   "metadata": {},
   "outputs": [],
   "source": [
    "dane['premia'].value_counts(dropna = False)"
   ]
  },
  {
   "cell_type": "code",
   "execution_count": null,
   "id": "adcbb473",
   "metadata": {},
   "outputs": [],
   "source": [
    "dane['premia'].astype(int).describe().round(2)"
   ]
  },
  {
   "cell_type": "markdown",
   "id": "079bc221",
   "metadata": {},
   "source": [
    "**Czy multisport**"
   ]
  },
  {
   "cell_type": "code",
   "execution_count": null,
   "id": "bd69b0e7",
   "metadata": {},
   "outputs": [],
   "source": [
    "dane['czy_multisport'].value_counts(dropna = False)"
   ]
  },
  {
   "cell_type": "code",
   "execution_count": null,
   "id": "bb62b1ee",
   "metadata": {},
   "outputs": [],
   "source": [
    "dane['czy_multisport'] = dane['czy_multisport'].replace({'Tak'      : 1,\n",
    "                                                         'Nie'      : 0,\n",
    "                                                         '-'        : 0,\n",
    "                                                         'Nie wiem' : np.nan})\n",
    "dane['czy_multisport'].value_counts(dropna = False)"
   ]
  },
  {
   "cell_type": "markdown",
   "id": "3c0ff6db",
   "metadata": {},
   "source": [
    "**Hobby**"
   ]
  },
  {
   "cell_type": "code",
   "execution_count": null,
   "id": "727c0cbf",
   "metadata": {},
   "outputs": [],
   "source": [
    "dane['hobby'].value_counts(dropna = False)"
   ]
  },
  {
   "cell_type": "code",
   "execution_count": null,
   "id": "8dca1722",
   "metadata": {},
   "outputs": [],
   "source": [
    "dane['hobby'] = dane['hobby'].str.lower(\n",
    "                            ).str.strip(\n",
    "                            ).replace({'inne: sztuka'     : 'kultura',\n",
    "                                       'inne: kultura'    : 'kultura',\n",
    "                                       'inne: wędkarstwo' : 'inne',\n",
    "                                       'inne: historia'   : 'inne'})\n",
    "dane['hobby'].value_counts(dropna = False) "
   ]
  },
  {
   "cell_type": "markdown",
   "id": "582b78af",
   "metadata": {},
   "source": [
    "## 4. Poprawa typów zmiennych"
   ]
  },
  {
   "cell_type": "markdown",
   "id": "3cfcdbb0",
   "metadata": {},
   "source": [
    "Typy kolumn powinny być dopasowane do typu zmiennych jaki reprezentują, aby posiadać funkcjonalności, które posiadają zmienne na danej skali."
   ]
  },
  {
   "cell_type": "code",
   "execution_count": null,
   "id": "313bac77",
   "metadata": {},
   "outputs": [],
   "source": [
    "# typy kolumn\n",
    "\n",
    "dane.dtypes"
   ]
  },
  {
   "cell_type": "markdown",
   "id": "4a5381f8",
   "metadata": {},
   "source": [
    "### Zmiana typu na str, int, float, bool \n",
    "- na zmienne nominalne, ilościowe, zero-jedynkowe"
   ]
  },
  {
   "cell_type": "code",
   "execution_count": null,
   "id": "e9506522",
   "metadata": {},
   "outputs": [],
   "source": [
    "dane['czy_multisport'].astype(str)"
   ]
  },
  {
   "cell_type": "code",
   "execution_count": null,
   "id": "0b109f51",
   "metadata": {},
   "outputs": [],
   "source": [
    "dane['pensja'].astype(float)"
   ]
  },
  {
   "cell_type": "code",
   "execution_count": null,
   "id": "0f18d1f0",
   "metadata": {},
   "outputs": [],
   "source": [
    "dane['premia'].astype(int)"
   ]
  },
  {
   "cell_type": "code",
   "execution_count": null,
   "id": "1584bbf6",
   "metadata": {},
   "outputs": [],
   "source": [
    "dane['czy_multisport'].astype(bool)"
   ]
  },
  {
   "cell_type": "markdown",
   "id": "ec9f77df",
   "metadata": {},
   "source": [
    "### Zmiana typu na category\n",
    "- na zmienną porządkową"
   ]
  },
  {
   "cell_type": "code",
   "execution_count": null,
   "id": "813b46a0",
   "metadata": {},
   "outputs": [],
   "source": [
    "dane['stanowisko'].astype('category'\n",
    "                 ).cat.reorder_categories(['sprzedawca', 'analityk', 'programista', 'kierownik'], ordered = True)"
   ]
  },
  {
   "cell_type": "markdown",
   "id": "4803e921",
   "metadata": {},
   "source": [
    "### Zmiana typu na datetime\n",
    "- na zmienną czasową"
   ]
  },
  {
   "cell_type": "code",
   "execution_count": null,
   "id": "c357fad9",
   "metadata": {},
   "outputs": [],
   "source": [
    "pd.to_datetime(dane['data_urodzenia'], format = '%Y-%m-%d')"
   ]
  },
  {
   "cell_type": "markdown",
   "id": "9015d410",
   "metadata": {},
   "source": [
    "### Zmiana typów kilku zmiennych"
   ]
  },
  {
   "cell_type": "code",
   "execution_count": null,
   "id": "9b9fceae",
   "metadata": {},
   "outputs": [],
   "source": [
    "dane.astype({'data_urodzenia' : 'datetime64[ns]',\n",
    "             'stanowisko'     : 'category',\n",
    "             'pensja'         : 'float',\n",
    "             'premia'         : 'float',\n",
    "             'czy_multisport' : 'float'})"
   ]
  },
  {
   "cell_type": "code",
   "execution_count": null,
   "id": "e78e3b08",
   "metadata": {},
   "outputs": [],
   "source": [
    "dane = dane.astype({'pensja'         : 'float',\n",
    "                    'premia'         : 'float',\n",
    "                    'czy_multisport' : 'float'}\n",
    "          ).to_datetime('data_urodzenia', format = '%Y-%m-%d'\n",
    "          ).assign(stanowisko = dane['stanowisko'].astype('category').cat.reorder_categories(['sprzedawca', 'analityk', 'programista', 'kierownik'], ordered = True))\n",
    "dane"
   ]
  },
  {
   "cell_type": "code",
   "execution_count": null,
   "id": "a67718eb",
   "metadata": {},
   "outputs": [],
   "source": [
    "dane.info()"
   ]
  },
  {
   "cell_type": "markdown",
   "id": "3b36ff81",
   "metadata": {},
   "source": [
    "## 5. Przekształcenie danych do postaci tidy"
   ]
  },
  {
   "cell_type": "markdown",
   "id": "49218d47",
   "metadata": {},
   "source": [
    "W większości analiz, dane powinny być zapisane w tzw. postaci **tidy**, w której:\n",
    " \n",
    "1. jedna zmienna = jedna kolumna\n",
    "2. jedna obserwacja = jeden wiersz\n",
    "3. jedna wartość = jedna komórka\n",
    " \n",
    "Jeśli dane są w innej postaci, możemy osiągnąć spełnianie powyższych warunków przez przekształcenie danych funkcjami takimi jak: **melt**, **pivot**, **transpose**, **stack**, **unstack**, **str.split**, **explode**, **str.cat**, **agg**. \\\n",
    "Zastosowanie pierwszych trzech z nich jest opisane w pliku pandas_1."
   ]
  },
  {
   "cell_type": "code",
   "execution_count": null,
   "id": "d84e37f9",
   "metadata": {},
   "outputs": [],
   "source": [
    "dane"
   ]
  },
  {
   "cell_type": "markdown",
   "id": "01e1a4af",
   "metadata": {},
   "source": [
    "---\n",
    "\n",
    "## 6. Podziwianie efektów"
   ]
  },
  {
   "cell_type": "markdown",
   "id": "57be1e99",
   "metadata": {},
   "source": [
    "Od tego zaczęliśmy:"
   ]
  },
  {
   "cell_type": "code",
   "execution_count": null,
   "id": "34e33dda",
   "metadata": {},
   "outputs": [],
   "source": [
    "dane_brudne"
   ]
  },
  {
   "cell_type": "markdown",
   "id": "8e15f419",
   "metadata": {},
   "source": [
    "a na tym skończyliśmy:"
   ]
  },
  {
   "cell_type": "code",
   "execution_count": null,
   "id": "db207bdd",
   "metadata": {},
   "outputs": [],
   "source": [
    "dane"
   ]
  },
  {
   "cell_type": "markdown",
   "id": "f871edf4",
   "metadata": {},
   "source": [
    "---\n",
    "\n",
    "## Ćwiczenie\n",
    "\n",
    "Wyczyść poniższe dane:"
   ]
  },
  {
   "cell_type": "code",
   "execution_count": null,
   "id": "92e92df7",
   "metadata": {},
   "outputs": [],
   "source": [
    "pd.ExcelFile('data_melt.xlsx').parse('messy_data', header = 1)"
   ]
  },
  {
   "cell_type": "code",
   "execution_count": null,
   "id": "fc73206c",
   "metadata": {},
   "outputs": [],
   "source": []
  },
  {
   "cell_type": "code",
   "execution_count": null,
   "id": "e07ce307",
   "metadata": {},
   "outputs": [],
   "source": []
  }
 ],
 "metadata": {
  "kernelspec": {
   "display_name": "Python 3 (ipykernel)",
   "language": "python",
   "name": "python3"
  },
  "language_info": {
   "codemirror_mode": {
    "name": "ipython",
    "version": 3
   },
   "file_extension": ".py",
   "mimetype": "text/x-python",
   "name": "python",
   "nbconvert_exporter": "python",
   "pygments_lexer": "ipython3",
   "version": "3.10.2"
  },
  "vp": {
   "vp_config_version": "1.0.0",
   "vp_menu_width": 273,
   "vp_note_display": false,
   "vp_note_width": 0,
   "vp_position": {
    "width": 278
   },
   "vp_section_display": false,
   "vp_signature": "VisualPython"
  }
 },
 "nbformat": 4,
 "nbformat_minor": 5
}
