{
 "cells": [
  {
   "cell_type": "markdown",
   "id": "b5b73414",
   "metadata": {},
   "source": [
    "# Jupyter Notebook"
   ]
  },
  {
   "cell_type": "markdown",
   "id": "115136ed",
   "metadata": {},
   "source": [
    "**Możliwe działania**:\n",
    "\n",
    "-\t*uruchamianie kodu*: ikonka `▶` przy komórce / ikonka „Run” (na górze) / skrót klawiszowy `Shift + Enter` lub `Ctrl + Enter` (bez przejścia do kolejnego chunka)\n",
    "-\t*utworzenie nowej komórki*: ikonka `+` / skrót klawiszowy `b`\n",
    "(kursor poza komórką – tryb poleceń (niebieska ramka komórki), a nie edycji (zielona); przejście do trybu poleceń poprzez kliknięcie poza pole komórki, ale nie za komórkę lub za pomocą skrótu klawiszowego `Esc`)\n",
    "-\t*zamiana typu komórki na komórkę z tekstem*: zmiana `Code` na `Markdown` / skrót klawiszowy `m`\n",
    "-\t*zamiana typu komórki na komórkę z kodem*: zmiana `Markdown` na `Code` / skrót klawiszowy `y`\n",
    "-\t*podzielenie komórki na dwie części*: `Ctrl + Shift + -`\n",
    "-\t*usunięcie komórki (jako wytnij/cut)*: ikonka `✂` / skrót klawiszowy `x`\n",
    "-\t*cofnięcie usunięcia komórki*: skrót klawiszowy `z`\n",
    "-\t*zmiana kolejności komórek*: ikonki `↑`, `↓`\n",
    "-\t*wyświetlenie informacji o funkcji*: skrót klawiszowy `Shift + Tab`\n",
    "-\t*lista pozostałych funkcji*: `Open the command palette`\n",
    "-\t*nowy plik*: np. w pliku `File` → `New Notebook` lub w folderze `New` → `Python 3`\n",
    "\n",
    "\n",
    "**Ważne**:\n",
    "\n",
    " Komórki można uruchamiać w różnej kolejności.\n",
    " \n",
    " Wszystkie zmienne wczytane od pierwszego uruchomienia znajdują się w pamięci tzw. kernela.\n",
    " \n",
    " Do wyświetlenia zawartości ostatniej linii komórki nie potrzeba polecenia print, ale przy potrzebie wyświetlenia kilku linii komórki jest ono konieczne."
   ]
  },
  {
   "cell_type": "markdown",
   "id": "451c1fd7",
   "metadata": {},
   "source": [
    "## Ćwiczenie"
   ]
  },
  {
   "cell_type": "code",
   "execution_count": null,
   "id": "e6becfe7",
   "metadata": {},
   "outputs": [],
   "source": [
    "'Hello world!', 2 + 3     # Uruchom komórkę."
   ]
  },
  {
   "cell_type": "markdown",
   "id": "8e5a5708",
   "metadata": {},
   "source": [
    "Uruchom tę komórkę, a poniżej dodaj komórkę z kodem oraz komórkę z tekstem."
   ]
  },
  {
   "cell_type": "markdown",
   "id": "361c7068",
   "metadata": {},
   "source": [
    "Usuń tę komórkę."
   ]
  },
  {
   "cell_type": "markdown",
   "id": "e834699e",
   "metadata": {},
   "source": [
    "Tę też usuń."
   ]
  },
  {
   "cell_type": "markdown",
   "id": "f6aac395",
   "metadata": {},
   "source": [
    "Przywróć ostatnią usuniętą komórkę."
   ]
  },
  {
   "cell_type": "markdown",
   "id": "08150075",
   "metadata": {},
   "source": [
    "Zamień kolejnością tą komórkę z poprzednią."
   ]
  },
  {
   "cell_type": "markdown",
   "id": "378824c9",
   "metadata": {},
   "source": [
    "## Podstawy Markdowna"
   ]
  },
  {
   "cell_type": "markdown",
   "id": "517fd4fe",
   "metadata": {},
   "source": [
    "-\tnowa linia (`\\` na końcu poprzedniej linii)\n",
    "-\tnowy akapit (pusta linia przed)\n",
    "-\tnagłówki (1. poziom: `#` przed tekstem nagłówka lub podkreślenie tekstu nagłówka przez `=` w kolejnej linii, 2. poziom: `##` lub podkreślenie przez `-`)\n",
    "-\tpogrubienie (`**`)\n",
    "-\tkursywa (`*`)\n",
    "-\tlista numerowana (`1. … 2. … 3. …` w kolejnych liniach)\n",
    "-\tlista nienumerowana (`- … - … - …` w kolejnych liniach)\n"
   ]
  },
  {
   "cell_type": "markdown",
   "id": "0e7ba210",
   "metadata": {},
   "source": [
    "## Nieco szerzej o podstawach Markdowna"
   ]
  },
  {
   "cell_type": "markdown",
   "id": "f77f4c1f",
   "metadata": {},
   "source": [
    "Nowy wiersz w markdownie można utworzyć przez backslash \\\n",
    "lub dwie  \n",
    "spacje.\n",
    "\n",
    "Nowy akapit tworzymy pozostawiając pusty wiersz.\n",
    "\n",
    "  Domyślnie akapity nie posiadają wcięcia, nawet jeśli użyjemy tabulacji.\n",
    "\n",
    "W taki sposób robimy w markdownie:\n",
    "\n",
    "*kursywę*,          _też kursywę_, \\\n",
    "**pogrubienie**,    __też pogrubienie__, \\\n",
    "~~przekreślenie~~.\n",
    "\n",
    "> Gdy chcemy wyróżnić jakiś tekst,\n",
    ">\n",
    "> możemy go wyeksponować przez znak \">\".\n",
    "\n",
    "Trzy kreski \n",
    "\n",
    "---\n",
    "\n",
    "lub trzy gwiazdki\n",
    "\n",
    "***\n",
    "\n",
    "albo trzy podkreślenia\n",
    "\n",
    "___\n",
    "\n",
    "pozwalają zrobić poziomą linię.\n",
    "\n",
    "---"
   ]
  },
  {
   "cell_type": "markdown",
   "id": "63fdb3eb",
   "metadata": {},
   "source": [
    "Rozdział 1\n",
    "===========\n",
    "\n",
    "Podkreślenie znakami \"=\" daje nagłówek najwyższego poziomu.\n",
    "\n",
    "Podrozdział 1.1\n",
    "----------------\n",
    "\n",
    "Podkreślenie znakami \"-\" daje nagłówek niższego poziomu.\n",
    "\n",
    "Podrozdział 1.2\n",
    "----------------\n",
    "\n",
    "[Jakiś tekst.]\n",
    "\n",
    "\n",
    "# Rozdział 2\n",
    "\n",
    "Jeden znak \"#\" daje ten efekt co \"=\" - nagłówek najwyższego poziomu.\n",
    "\n",
    "## Podrozdział 2.1\n",
    "\n",
    "Dwa znaki \"#\" dają ten efekt co \"-\" - nagłówek niższego poziomu.\n",
    "\n",
    "### Podpodrozdział 2.1.1\n",
    " \n",
    "Trzy znaki \"#\" pozwalają na nagłówek jeszcze niższego poziomu.\\\n",
    "liczba znaków \"#\" = poziom zagłębienia nagłówka (nie jego rozmiar)\n",
    " \n",
    "### Podpodrozdział 2.1.2\n",
    "\n",
    "Nagłówki wykonane przez znaki \"=\" i \"-\" oraz przez znak \"#\" można bez problemu łączyć.\n",
    "\n",
    "---"
   ]
  },
  {
   "cell_type": "markdown",
   "id": "100673ac",
   "metadata": {},
   "source": [
    "### Elementy do dodania\n",
    "\n",
    "**Lista numerowana**\n",
    "\n",
    "1. dodajemy\n",
    "1. wypisując\n",
    "4. kolejne\n",
    "3. liczby\n",
    "\n",
    "**Lista nienumerowana**\n",
    "\n",
    "- dodajemy\n",
    "  + poprzez\n",
    "+ znaki takie jak:\n",
    "  - myślniki\n",
    "  + plusy\n",
    "  * i gwiazdki\n",
    "- oraz\n",
    "  * odpowiednią\n",
    "      * do poziomu\n",
    "        * liczbę\n",
    "  * tabulacji\n",
    "\n",
    "Możemy\n",
    "\n",
    "1. łączyć\n",
    "    - oba\n",
    "      * typy\n",
    "2. list\n",
    "\n",
    "\n",
    "Myślniki (\"-\") oraz pionowe linie (\"|\") pozwalają na\n",
    "\n",
    "| utworzenie | tabelki. |\n",
    "|------------|----------|\n",
    "| komórka    | komórka  |\n",
    "| komórka    | komórka  |\n",
    "\n",
    "\n",
    "Możemy też dodać tekst sformatowany jako kod, np. **pseudokod**. Pozwala na to \n",
    "\n",
    "    wcięcie\n",
    "    z dwoma\n",
    "    tabulacjami.\n",
    "    \n",
    "Będzie on jedynie sformatowany jako kod, więc nie będzie wykonywał się podczas kompilacji pliku.\n",
    "    \n",
    "Taki sam efekt uzyskamy umieszczając treść pomiędzy\n",
    "\n",
    "```\n",
    "trzema backtickami\n",
    "z obu stron.\n",
    "```\n",
    "\n",
    "Pojedynczy `backtick` z obu stron pozwala na umieszczenie kodu w wierszu, pomiędzy tekstem."
   ]
  },
  {
   "cell_type": "markdown",
   "id": "43911794",
   "metadata": {},
   "source": [
    "# NumPy"
   ]
  },
  {
   "cell_type": "markdown",
   "id": "d653e053",
   "metadata": {},
   "source": [
    "NumPy (**Num**erical **Py**thon) – biblioteka do operacji na tablicach liczbowych różnego wymiaru (macierzy wielowymiarowych), wykorzystywanych często w obliczeniach inżynierskich.\n",
    "\n",
    "NumPy dostarcza listy „ulepszone” pod względem dostępnych możliwości, szybkości operacji i wydajności przechowywania, co ułatwia bardziej złożone obliczenia. "
   ]
  },
  {
   "cell_type": "markdown",
   "id": "ce2f9a68",
   "metadata": {},
   "source": [
    "Instalacja pakietu - w wierszu poleceń:\n",
    "\n",
    "```\n",
    "   pip install numpy\n",
    "```"
   ]
  },
  {
   "cell_type": "markdown",
   "id": "adc880b9",
   "metadata": {},
   "source": [
    "## Lista vs Numpy.array"
   ]
  },
  {
   "cell_type": "markdown",
   "id": "f3775e32",
   "metadata": {},
   "source": [
    "### Macierz jednowymiarowa"
   ]
  },
  {
   "cell_type": "code",
   "execution_count": 4,
   "id": "d468972f",
   "metadata": {},
   "outputs": [
    {
     "data": {
      "text/plain": [
       "[5, 2, 7, 1]"
      ]
     },
     "execution_count": 4,
     "metadata": {},
     "output_type": "execute_result"
    }
   ],
   "source": [
    "print([5, 2, 7, 1])               # lista w pakiecie base (wbudowanego)"
   ]
  },
  {
   "cell_type": "code",
   "execution_count": 84,
   "id": "1c0080c1",
   "metadata": {},
   "outputs": [
    {
     "name": "stdout",
     "output_type": "stream",
     "text": [
      "[5 2 7 1]\n"
     ]
    }
   ],
   "source": [
    "import numpy as np                # załadowanie pakietu\n",
    "\n",
    "print(np.array([5, 2, 7, 1]))     # lista w pakiecie numpy "
   ]
  },
  {
   "cell_type": "code",
   "execution_count": 74,
   "id": "33aee0b8",
   "metadata": {},
   "outputs": [
    {
     "name": "stdout",
     "output_type": "stream",
     "text": [
      "<class 'list'>\n",
      "<class 'numpy.ndarray'>\n"
     ]
    }
   ],
   "source": [
    "lista = [5, 2, 7, 1]  \n",
    "\n",
    "print(type(lista))\n",
    "print(type(np.array(lista)))"
   ]
  },
  {
   "cell_type": "code",
   "execution_count": 76,
   "id": "d45f06a2",
   "metadata": {},
   "outputs": [
    {
     "name": "stdout",
     "output_type": "stream",
     "text": [
      "[5, 'a', 7, 1]\n",
      "['5' 'a' '7' '1']\n"
     ]
    }
   ],
   "source": [
    "lista = [5, 'a', 7, 1]  \n",
    "\n",
    "print(lista)\n",
    "print(np.array(lista))            # zmiana int->str - numpy.array nie może składać się z elementów różnego typu!"
   ]
  },
  {
   "cell_type": "markdown",
   "id": "4b370b52",
   "metadata": {},
   "source": [
    "### Macierz dwuwymiarowa"
   ]
  },
  {
   "cell_type": "code",
   "execution_count": 17,
   "id": "b9b7d60d",
   "metadata": {},
   "outputs": [
    {
     "data": {
      "text/plain": [
       "[[6, 4, 18], [3, 27, 8]]"
      ]
     },
     "execution_count": 17,
     "metadata": {},
     "output_type": "execute_result"
    }
   ],
   "source": [
    "print([[6, 4,  18],                # tablica w pakiecie base\n",
    "       [3, 27, 8]])"
   ]
  },
  {
   "cell_type": "code",
   "execution_count": 83,
   "id": "965639c1",
   "metadata": {},
   "outputs": [
    {
     "name": "stdout",
     "output_type": "stream",
     "text": [
      "[[ 6  4 18]\n",
      " [ 3 27  8]]\n"
     ]
    }
   ],
   "source": [
    "print(np.array([[6, 4,  18],\n",
    "                [3, 27, 8]]))      # tablica w pakiecie numpy "
   ]
  },
  {
   "cell_type": "code",
   "execution_count": 53,
   "id": "2f2c7fa0",
   "metadata": {},
   "outputs": [
    {
     "name": "stdout",
     "output_type": "stream",
     "text": [
      "2\n",
      "(2, 3)\n"
     ]
    }
   ],
   "source": [
    "tablica = [[6, 4,  18],\n",
    "           [3, 27, 8]]\n",
    "\n",
    "print(len(tablica))\n",
    "print(np.array(tablica).shape)"
   ]
  },
  {
   "cell_type": "code",
   "execution_count": 82,
   "id": "758ccddb",
   "metadata": {},
   "outputs": [
    {
     "name": "stdout",
     "output_type": "stream",
     "text": [
      "[[6, 4, 18], [3, 27]]\n",
      "[list([6, 4, 18]) list([3, 27])]\n"
     ]
    },
    {
     "name": "stderr",
     "output_type": "stream",
     "text": [
      "C:\\Users\\Agnieszka\\AppData\\Local\\Temp\\ipykernel_10076\\2679396505.py:5: VisibleDeprecationWarning: Creating an ndarray from ragged nested sequences (which is a list-or-tuple of lists-or-tuples-or ndarrays with different lengths or shapes) is deprecated. If you meant to do this, you must specify 'dtype=object' when creating the ndarray.\n",
      "  print(np.array(tablica))\n"
     ]
    }
   ],
   "source": [
    "tablica = [[6, 4,  18],\n",
    "           [3, 27]]\n",
    "\n",
    "print(tablica)\n",
    "print(np.array(tablica))   # numpy.array musi mieć wszystkie rzędy i kolumny tej samej długości!"
   ]
  },
  {
   "cell_type": "markdown",
   "id": "d1bb9dc7",
   "metadata": {},
   "source": [
    "### Macierz wielowymiarowa"
   ]
  },
  {
   "cell_type": "code",
   "execution_count": 80,
   "id": "16dab85d",
   "metadata": {},
   "outputs": [
    {
     "name": "stdout",
     "output_type": "stream",
     "text": [
      "[[[0, 6], [8, 7], [8, 1]], [[2, 2], [7, 4], [1, 3]]]\n",
      "[[[0 6]\n",
      "  [8 7]\n",
      "  [8 1]]\n",
      "\n",
      " [[2 2]\n",
      "  [7 4]\n",
      "  [1 3]]]\n"
     ]
    }
   ],
   "source": [
    "tablica = [[[0, 6], [8, 7],  [8, 1]],\n",
    "           [[2, 2], [7, 4],  [1, 3]]]\n",
    "\n",
    "print(tablica)\n",
    "print(np.array(tablica))"
   ]
  },
  {
   "cell_type": "code",
   "execution_count": 81,
   "id": "a03e8a7a",
   "metadata": {},
   "outputs": [
    {
     "name": "stdout",
     "output_type": "stream",
     "text": [
      "2\n",
      "(2, 3, 2)\n"
     ]
    }
   ],
   "source": [
    "print(len(tablica))\n",
    "print(np.array(tablica).shape)"
   ]
  },
  {
   "cell_type": "markdown",
   "id": "99908050",
   "metadata": {},
   "source": [
    "### Ustalenie typu elementów macierzy"
   ]
  },
  {
   "cell_type": "code",
   "execution_count": 100,
   "id": "f58bd446",
   "metadata": {},
   "outputs": [
    {
     "name": "stdout",
     "output_type": "stream",
     "text": [
      "[5, 2, 7, 1]\n",
      "[5 2 7 1]\n",
      "[5. 2. 7. 1.]\n",
      "\n",
      "<class 'int'>\n",
      "int32\n",
      "float64\n"
     ]
    }
   ],
   "source": [
    "lista = [5, 2, 7, 1] \n",
    "\n",
    "print(lista)\n",
    "print(np.array(lista))\n",
    "print(np.array(lista, dtype = np.float32))\n",
    "print()\n",
    "print(type(lista[0]))\n",
    "print(np.array(lista).dtype)                   # liczby całkowite   / zmienna ilościowa dyskretna\n",
    "print(np.array(lista, dtype = float).dtype)    # liczby rzeczywiste / zmienna ilościowa ciągła"
   ]
  },
  {
   "cell_type": "code",
   "execution_count": 106,
   "id": "acc9033b",
   "metadata": {
    "scrolled": true
   },
   "outputs": [
    {
     "name": "stdout",
     "output_type": "stream",
     "text": [
      "[5 2 7 1]\n",
      "[5 2 7 1]\n",
      "[5 2 7 1]\n",
      "[5. 2. 7. 1.]\n",
      "[5. 2. 7. 1.]\n",
      "[5. 2. 7. 1.]\n"
     ]
    }
   ],
   "source": [
    "print(np.array(lista, dtype = 'int16'))       # różnica niewidoczna, ale jest ona w dokładności liczby zapisanej w pamięci (liczbie bitów, na których jest zapisana)\n",
    "print(np.array(lista, dtype = 'int32'))\n",
    "print(np.array(lista, dtype = 'int64'))\n",
    "\n",
    "print(np.array(lista, dtype = 'float16'))\n",
    "print(np.array(lista, dtype = 'float32'))\n",
    "print(np.array(lista, dtype = 'float64'))"
   ]
  },
  {
   "cell_type": "markdown",
   "id": "7576f165",
   "metadata": {},
   "source": [
    "## Operacje na Numpy.array"
   ]
  },
  {
   "cell_type": "markdown",
   "id": "b8ea4014",
   "metadata": {},
   "source": [
    "### Operacje na listach\n"
   ]
  },
  {
   "cell_type": "markdown",
   "id": "2ec3f5f9",
   "metadata": {},
   "source": [
    "Wykonywanie operacji na obiektach numpy.array polega na wykonywania ich na odpowiadających sobie elementach tych obiektów. \\\n",
    "Muszą więc być one tych samych wymiarów."
   ]
  },
  {
   "cell_type": "code",
   "execution_count": 167,
   "id": "0d692c81",
   "metadata": {},
   "outputs": [
    {
     "name": "stdout",
     "output_type": "stream",
     "text": [
      "[3 5 7]\n",
      "[-1 -1 -1]\n",
      "[ 2  6 12]\n",
      "[ 1  8 81]\n"
     ]
    }
   ],
   "source": [
    "lista1 = [1, 2, 3]\n",
    "lista2 = [2, 3, 4]\n",
    "nmp_lista1 = np.array(lista1)\n",
    "nmp_lista2 = np.array(lista2)\n",
    "\n",
    "print(nmp_lista1 + nmp_lista2)\n",
    "print(nmp_lista1 - nmp_lista2)\n",
    "print(nmp_lista1 * nmp_lista2)\n",
    "print(nmp_lista1 ** nmp_lista2)"
   ]
  },
  {
   "cell_type": "code",
   "execution_count": 149,
   "id": "40bb573b",
   "metadata": {},
   "outputs": [
    {
     "name": "stdout",
     "output_type": "stream",
     "text": [
      "[1, 2, 3, 2, 3, 4]\n"
     ]
    },
    {
     "ename": "TypeError",
     "evalue": "can't multiply sequence by non-int of type 'list'",
     "output_type": "error",
     "traceback": [
      "\u001b[1;31m---------------------------------------------------------------------------\u001b[0m",
      "\u001b[1;31mTypeError\u001b[0m                                 Traceback (most recent call last)",
      "Input \u001b[1;32mIn [149]\u001b[0m, in \u001b[0;36m<module>\u001b[1;34m\u001b[0m\n\u001b[0;32m      1\u001b[0m \u001b[38;5;28mprint\u001b[39m(lista1 \u001b[38;5;241m+\u001b[39m lista2)          \u001b[38;5;66;03m# inne działanie dla list - konkatenacja list\u001b[39;00m\n\u001b[1;32m----> 2\u001b[0m \u001b[38;5;28mprint\u001b[39m(\u001b[43mlista1\u001b[49m\u001b[43m \u001b[49m\u001b[38;5;241;43m*\u001b[39;49m\u001b[43m \u001b[49m\u001b[43mlista2\u001b[49m)\n",
      "\u001b[1;31mTypeError\u001b[0m: can't multiply sequence by non-int of type 'list'"
     ]
    }
   ],
   "source": [
    "print(lista1 + lista2)          # inne działanie dla list - konkatenacja list\n",
    "print(lista1 * lista2)          # brak działania dla list"
   ]
  },
  {
   "cell_type": "code",
   "execution_count": 150,
   "id": "29a12b3e",
   "metadata": {},
   "outputs": [
    {
     "name": "stdout",
     "output_type": "stream",
     "text": [
      "[3, 5, 7]\n",
      "[2, 6, 12]\n"
     ]
    }
   ],
   "source": [
    "print([l1 + l2 for l1, l2 in zip(lista1, lista2)])  # działające dla list, ale dłuższe\n",
    "print([l1 * l2 for l1, l2 in zip(lista1, lista2)])"
   ]
  },
  {
   "cell_type": "markdown",
   "id": "9905ec31",
   "metadata": {},
   "source": [
    "### Operacje na tablicach"
   ]
  },
  {
   "cell_type": "code",
   "execution_count": 168,
   "id": "2a1c20bc",
   "metadata": {},
   "outputs": [
    {
     "name": "stdout",
     "output_type": "stream",
     "text": [
      "[[13  5 23]\n",
      " [12 30 16]]\n",
      "[[-1  3 13]\n",
      " [-6 24  0]]\n",
      "[[42  4 90]\n",
      " [27 81 64]]\n",
      "[[  279936        4  1889568]\n",
      " [   19683    19683 16777216]]\n"
     ]
    }
   ],
   "source": [
    "nmp_tablica1 = np.array([[6, 4,  18],\n",
    "                         [3, 27, 8]])\n",
    "nmp_tablica2 = np.array([[7, 1, 5],\n",
    "                         [9, 3, 8]])\n",
    "\n",
    "print(nmp_tablica1 + nmp_tablica2)\n",
    "print(nmp_tablica1 - nmp_tablica2)\n",
    "print(nmp_tablica1 * nmp_tablica2)\n",
    "print(nmp_tablica1 ** nmp_tablica2)"
   ]
  },
  {
   "cell_type": "markdown",
   "id": "3bb6c2e6",
   "metadata": {},
   "source": [
    "### Mnożenie macierzy"
   ]
  },
  {
   "cell_type": "markdown",
   "id": "83a276b3",
   "metadata": {},
   "source": [
    "Uwaga! W przypadku list operacje dodawania, odejmowania i mnożenia zgadzają się z matematycznymi operacjami na wektorach, ale w przypadku tablic, matematyczne mnożenie macierzy oznacza co innego!"
   ]
  },
  {
   "cell_type": "code",
   "execution_count": 152,
   "id": "de697f96",
   "metadata": {},
   "outputs": [
    {
     "name": "stdout",
     "output_type": "stream",
     "text": [
      "[[ 78  18]\n",
      " [264  84]]\n"
     ]
    }
   ],
   "source": [
    "nmp_macierz1 = np.array([[6, 4],\n",
    "                         [3, 27]])\n",
    "nmp_macierz2 = np.array([[7, 1],\n",
    "                         [9, 3]])\n",
    "\n",
    "print(nmp_macierz1 @ nmp_macierz2)        # co innego!"
   ]
  },
  {
   "cell_type": "markdown",
   "id": "37bf4f37",
   "metadata": {},
   "source": [
    "### Broadcasting"
   ]
  },
  {
   "cell_type": "markdown",
   "id": "cc8f29b9",
   "metadata": {},
   "source": [
    "Broadcasting to wykonanie operacji na liczbie i obiekcie numpy.array, co polega na wykonaniu jej dla każdego elementu tego obiektu i tej liczby."
   ]
  },
  {
   "cell_type": "code",
   "execution_count": 169,
   "id": "aa24468f",
   "metadata": {},
   "outputs": [
    {
     "name": "stdout",
     "output_type": "stream",
     "text": [
      "[1 2 3]\n",
      "[3 4 5]\n",
      "[-1  0  1]\n",
      "[2 4 6]\n",
      "[1 4 9]\n"
     ]
    }
   ],
   "source": [
    "print(nmp_lista1)\n",
    "print(nmp_lista1 + 2)\n",
    "print(nmp_lista1 - 2)\n",
    "print(nmp_lista1 * 2)\n",
    "print(nmp_lista1 ** 2)"
   ]
  },
  {
   "cell_type": "code",
   "execution_count": 170,
   "id": "cc900bf9",
   "metadata": {},
   "outputs": [
    {
     "name": "stdout",
     "output_type": "stream",
     "text": [
      "[[ 6  4 18]\n",
      " [ 3 27  8]]\n",
      "[[ 8  6 20]\n",
      " [ 5 29 10]]\n",
      "[[ 4  2 16]\n",
      " [ 1 25  6]]\n",
      "[[12  8 36]\n",
      " [ 6 54 16]]\n",
      "[[ 36  16 324]\n",
      " [  9 729  64]]\n"
     ]
    }
   ],
   "source": [
    "print(nmp_tablica1)\n",
    "print(nmp_tablica1 + 2)\n",
    "print(nmp_tablica1 - 2)\n",
    "print(nmp_tablica1 * 2)\n",
    "print(nmp_tablica1 ** 2)"
   ]
  },
  {
   "cell_type": "code",
   "execution_count": 173,
   "id": "ebc941af",
   "metadata": {},
   "outputs": [
    {
     "name": "stdout",
     "output_type": "stream",
     "text": [
      "[[ 6  4 18]\n",
      " [ 3 27  8]]\n",
      "[[ 8  6 20]\n",
      " [ 5 29 10]]\n",
      "[[ 4  2 16]\n",
      " [ 1 25  6]]\n",
      "[[12  8 36]\n",
      " [ 6 54 16]]\n",
      "[[ 36  16 324]\n",
      " [  9 729  64]]\n"
     ]
    }
   ],
   "source": [
    "print(nmp_tablica1)\n",
    "print(nmp_tablica1 + np.array([[2, 2, 2],     # to samo!\n",
    "                               [2, 2, 2]])) \n",
    "print(nmp_tablica1 - np.array([[2, 2, 2],    \n",
    "                               [2, 2, 2]])) \n",
    "print(nmp_tablica1 * np.array([[2, 2, 2],     \n",
    "                               [2, 2, 2]])) \n",
    "print(nmp_tablica1 ** np.array([[2, 2, 2],     \n",
    "                                [2, 2, 2]])) "
   ]
  },
  {
   "cell_type": "markdown",
   "id": "9f622ce0",
   "metadata": {},
   "source": [
    "Można to rozszerzyć:"
   ]
  },
  {
   "cell_type": "code",
   "execution_count": 182,
   "id": "3c9b7d48",
   "metadata": {},
   "outputs": [
    {
     "name": "stdout",
     "output_type": "stream",
     "text": [
      "(2, 3)\n",
      "(2, 1)\n",
      "[[ 6  4 18]\n",
      " [ 3 27  8]]\n",
      "[[ 8  6 20]\n",
      " [ 7 31 12]]\n",
      "[[ 8  6 20]\n",
      " [ 7 31 12]]\n"
     ]
    }
   ],
   "source": [
    "print(nmp_tablica1)\n",
    "print(nmp_tablica1 + np.array([[2],\n",
    "                               [4]])) \n",
    "print(nmp_tablica1 + np.array([[2, 2, 2],     # to samo!\n",
    "                               [4, 4, 4]]))"
   ]
  },
  {
   "cell_type": "markdown",
   "id": "ac6aa247",
   "metadata": {},
   "source": [
    "### Konkatenacja"
   ]
  },
  {
   "cell_type": "code",
   "execution_count": 371,
   "id": "8456e1fc",
   "metadata": {},
   "outputs": [
    {
     "name": "stdout",
     "output_type": "stream",
     "text": [
      "[[ 1  2  3  7  8  9 13 14 15]\n",
      " [ 4  5  6 10 11 12 16 17 18]]\n",
      "[[ 1  2  3]\n",
      " [ 4  5  6]\n",
      " [ 7  8  9]\n",
      " [10 11 12]\n",
      " [13 14 15]\n",
      " [16 17 18]]\n"
     ]
    }
   ],
   "source": [
    "nmp_tablica1 = np.array([[1, 2, 3],\n",
    "                         [4, 5, 6]])\n",
    "nmp_tablica2 = np.array([[7,  8,  9],\n",
    "                         [10, 11, 12]])\n",
    "nmp_tablica3 = np.array([[13, 14, 15],\n",
    "                         [16, 17, 18]])\n",
    "\n",
    "wide_tablica = np.hstack([nmp_tablica1, nmp_tablica2, nmp_tablica3])\n",
    "long_tablica = np.vstack([nmp_tablica1, nmp_tablica2, nmp_tablica3])\n",
    "print(wide_tablica)\n",
    "print(long_tablica)"
   ]
  },
  {
   "cell_type": "markdown",
   "id": "382f8e02",
   "metadata": {},
   "source": [
    "**Modyfikacja wymiaru tablicy**:"
   ]
  },
  {
   "cell_type": "code",
   "execution_count": 372,
   "id": "ec7a3307",
   "metadata": {},
   "outputs": [
    {
     "name": "stdout",
     "output_type": "stream",
     "text": [
      "[[ 1  2  3  7  8  9]\n",
      " [13 14 15  4  5  6]\n",
      " [10 11 12 16 17 18]]\n",
      "[[ 1  2  3  4  5  6]\n",
      " [ 7  8  9 10 11 12]\n",
      " [13 14 15 16 17 18]]\n"
     ]
    }
   ],
   "source": [
    "print(wide_tablica.reshape(3, 6))\n",
    "print(long_tablica.reshape(3, 6))"
   ]
  },
  {
   "cell_type": "markdown",
   "id": "fcaf1da8",
   "metadata": {},
   "source": [
    "## Indeksowanie i slicing"
   ]
  },
  {
   "cell_type": "markdown",
   "id": "a4dd3191",
   "metadata": {},
   "source": [
    "### Indeksowanie na listach"
   ]
  },
  {
   "cell_type": "code",
   "execution_count": 215,
   "id": "633c0a4c",
   "metadata": {},
   "outputs": [
    {
     "name": "stdout",
     "output_type": "stream",
     "text": [
      "3\n",
      "3\n",
      "2\n",
      "2\n"
     ]
    }
   ],
   "source": [
    "lista = [5, 3, 6, 2, 4]\n",
    "nmp_lista = np.array(lista)\n",
    "\n",
    "print(lista[1])\n",
    "print(nmp_lista[1])\n",
    "\n",
    "print(lista[-2])\n",
    "print(nmp_lista[-2])"
   ]
  },
  {
   "cell_type": "code",
   "execution_count": 216,
   "id": "5cde023e",
   "metadata": {
    "scrolled": true
   },
   "outputs": [
    {
     "name": "stdout",
     "output_type": "stream",
     "text": [
      "<class 'int'>\n",
      "<class 'numpy.int32'>\n"
     ]
    }
   ],
   "source": [
    "print(type(lista[1]))\n",
    "print(type(nmp_lista[1]))"
   ]
  },
  {
   "cell_type": "markdown",
   "id": "77570854",
   "metadata": {},
   "source": [
    "### Slicing na listach"
   ]
  },
  {
   "cell_type": "code",
   "execution_count": 213,
   "id": "7cd77e4a",
   "metadata": {},
   "outputs": [
    {
     "name": "stdout",
     "output_type": "stream",
     "text": [
      "[3, 6, 2]\n",
      "[3 6 2]\n",
      "[6, 2]\n",
      "[6 2]\n",
      "[3, 6, 2, 4]\n",
      "[3 6 2 4]\n",
      "[5, 3, 6, 2]\n",
      "[5 3 6 2]\n",
      "[5, 3, 6, 2, 4]\n",
      "[5 3 6 2 4]\n"
     ]
    }
   ],
   "source": [
    "lista = [5, 3, 6, 2, 4]\n",
    "\n",
    "print(lista[1:4])\n",
    "print(nmp_lista[1:4])\n",
    "\n",
    "print(lista[-3:-1])\n",
    "print(nmp_lista[-3:-1])\n",
    "\n",
    "print(lista[1:])\n",
    "print(nmp_lista[1:])\n",
    "\n",
    "print(lista[:4])\n",
    "print(nmp_lista[:4])\n",
    "\n",
    "print(lista[:])\n",
    "print(nmp_lista[:])"
   ]
  },
  {
   "cell_type": "code",
   "execution_count": 217,
   "id": "86a4c362",
   "metadata": {},
   "outputs": [
    {
     "name": "stdout",
     "output_type": "stream",
     "text": [
      "<class 'list'>\n",
      "<class 'numpy.ndarray'>\n"
     ]
    }
   ],
   "source": [
    "print(type(lista[1:4]))\n",
    "print(type(nmp_lista[1:4]))"
   ]
  },
  {
   "cell_type": "markdown",
   "id": "4d2e828f",
   "metadata": {},
   "source": [
    "### Indeksowanie i slicing na tablicach"
   ]
  },
  {
   "cell_type": "markdown",
   "id": "bdade0ce",
   "metadata": {},
   "source": [
    "**Indeksowanie**"
   ]
  },
  {
   "cell_type": "code",
   "execution_count": 225,
   "id": "3db6ed5a",
   "metadata": {},
   "outputs": [
    {
     "name": "stdout",
     "output_type": "stream",
     "text": [
      "8\n",
      "8\n",
      "10\n",
      "10\n"
     ]
    }
   ],
   "source": [
    "tablica = [[6, 4,  18, 3,  2],\n",
    "           [3, 27, 8,  10, 0],\n",
    "           [1, 9,  5,  7,  6]]\n",
    "nmp_tablica = np.array(tablica)\n",
    "\n",
    "print(tablica[1][2])\n",
    "print(nmp_tablica[1, 2])\n",
    "\n",
    "print(tablica[1][-2])\n",
    "print(nmp_tablica[1, -2])"
   ]
  },
  {
   "cell_type": "markdown",
   "id": "96ea31e3",
   "metadata": {},
   "source": [
    "**Slicing**"
   ]
  },
  {
   "cell_type": "code",
   "execution_count": 230,
   "id": "e3d83a9d",
   "metadata": {},
   "outputs": [
    {
     "name": "stdout",
     "output_type": "stream",
     "text": [
      "[[3, 27, 8, 10, 0], [1, 9, 5, 7, 6]]\n",
      "[]\n",
      "[[ 8 10  0]\n",
      " [ 5  7  6]]\n"
     ]
    }
   ],
   "source": [
    "print(tablica[1:])\n",
    "print(tablica[1:][2:])       # nie zadziała!\n",
    "print(nmp_tablica[1:, 2:])"
   ]
  },
  {
   "cell_type": "code",
   "execution_count": 231,
   "id": "5052cd06",
   "metadata": {},
   "outputs": [
    {
     "name": "stdout",
     "output_type": "stream",
     "text": [
      "[[6, 4, 18, 3, 2], [3, 27, 8, 10, 0]]\n",
      "[]\n",
      "[[ 6  4 18]\n",
      " [ 3 27  8]]\n"
     ]
    }
   ],
   "source": [
    "print(tablica[:2])\n",
    "print(tablica[:2][:-2])      # nie zadziała!\n",
    "print(nmp_tablica[:2, :-2])"
   ]
  },
  {
   "cell_type": "markdown",
   "id": "70aa16cd",
   "metadata": {},
   "source": [
    "---\n",
    "\n",
    "### Ćwiczenia"
   ]
  },
  {
   "cell_type": "markdown",
   "id": "963d0fc2",
   "metadata": {},
   "source": [
    "1. Utwórz listę numpy.array składającą się z sześcianów kolejnych cyfr (0-9)."
   ]
  },
  {
   "cell_type": "code",
   "execution_count": null,
   "id": "e26aab7f",
   "metadata": {},
   "outputs": [],
   "source": []
  },
  {
   "cell_type": "markdown",
   "id": "576a9c14",
   "metadata": {},
   "source": [
    "2. Przy pomocy slicingu, wybierz z poniższej tablicy cyfry 5, 6, 8, 9."
   ]
  },
  {
   "cell_type": "code",
   "execution_count": 241,
   "id": "edb3cdb7",
   "metadata": {},
   "outputs": [],
   "source": [
    "nmp_tablica = np.array([[1, 2, 3],\n",
    "                        [4, 5, 6],\n",
    "                        [7, 8, 9]])\n",
    "\n"
   ]
  },
  {
   "cell_type": "code",
   "execution_count": null,
   "id": "d8b485ea",
   "metadata": {},
   "outputs": [],
   "source": []
  },
  {
   "cell_type": "markdown",
   "id": "46213c20",
   "metadata": {},
   "source": [
    "3. Przy pomocy slicingu, wybierz z poniższej tablicy cyfry 6, 7, 10, 11."
   ]
  },
  {
   "cell_type": "code",
   "execution_count": 242,
   "id": "d567d5dd",
   "metadata": {},
   "outputs": [],
   "source": [
    "nmp_tablica2 = np.array([[1, 2,  3,  4],\n",
    "                         [5, 6,  7,  8],\n",
    "                         [9, 10, 11, 12]])\n",
    "\n"
   ]
  },
  {
   "cell_type": "code",
   "execution_count": null,
   "id": "127f0f36",
   "metadata": {},
   "outputs": [],
   "source": []
  },
  {
   "cell_type": "markdown",
   "id": "2b26e0b3",
   "metadata": {},
   "source": [
    "---\n",
    "\n",
    "## Filtrowanie"
   ]
  },
  {
   "cell_type": "markdown",
   "id": "8df09e9f",
   "metadata": {},
   "source": [
    "### Operacje logiczne na Numpy.array\n",
    "\n",
    "Funkcje logiczne:\n",
    "\n",
    "- == - równa się\n",
    "- != - nie równa się\n",
    "- $>$ - większe\n",
    "- $<$ - mniejsze\n",
    "- $>$= - większe równe\n",
    "- $<$= - mniejsze równe\n",
    "- ~  - negacja\n",
    "- &  - koniunkcja\n",
    "- |  - alternatywa"
   ]
  },
  {
   "cell_type": "code",
   "execution_count": 294,
   "id": "074e8693",
   "metadata": {},
   "outputs": [
    {
     "name": "stdout",
     "output_type": "stream",
     "text": [
      "[ True  True False  True False]\n",
      "[False False  True False  True]\n",
      "[ True  True  True False False]\n",
      "[ True  True  True False  True]\n",
      "[False  True False False  True]\n"
     ]
    }
   ],
   "source": [
    "nmp_lista1 = np.array([5, 3, 6, 2, 4])\n",
    "nmp_lista2 = np.array([5, 3, 4, 2, 1])\n",
    "nmp_lista3 = np.array([1, 2, 3, 4, 5])\n",
    "\n",
    "print(nmp_lista1 == nmp_lista2)\n",
    "print(nmp_lista1 != nmp_lista2)\n",
    "print(nmp_lista1 > nmp_lista3)\n",
    "print(nmp_lista1 >= 3)\n",
    "print((nmp_lista1 >= 3) & (nmp_lista1 < 5))"
   ]
  },
  {
   "cell_type": "code",
   "execution_count": 387,
   "id": "e03e6596",
   "metadata": {},
   "outputs": [
    {
     "name": "stdout",
     "output_type": "stream",
     "text": [
      "True\n",
      "False\n"
     ]
    },
    {
     "ename": "TypeError",
     "evalue": "'>' not supported between instances of 'list' and 'int'",
     "output_type": "error",
     "traceback": [
      "\u001b[1;31m---------------------------------------------------------------------------\u001b[0m",
      "\u001b[1;31mTypeError\u001b[0m                                 Traceback (most recent call last)",
      "Input \u001b[1;32mIn [387]\u001b[0m, in \u001b[0;36m<module>\u001b[1;34m\u001b[0m\n\u001b[0;32m      5\u001b[0m \u001b[38;5;28mprint\u001b[39m(lista1 \u001b[38;5;241m>\u001b[39m lista2)        \u001b[38;5;66;03m# inne działanie dla list! - porównanie podobne do porównania 2 liczb\u001b[39;00m\n\u001b[0;32m      6\u001b[0m \u001b[38;5;28mprint\u001b[39m(lista1 \u001b[38;5;241m>\u001b[39m lista3)\n\u001b[1;32m----> 7\u001b[0m \u001b[38;5;28mprint\u001b[39m(\u001b[43mlista1\u001b[49m\u001b[43m \u001b[49m\u001b[38;5;241;43m>\u001b[39;49m\u001b[43m \u001b[49m\u001b[38;5;241;43m3\u001b[39;49m)\n",
      "\u001b[1;31mTypeError\u001b[0m: '>' not supported between instances of 'list' and 'int'"
     ]
    }
   ],
   "source": [
    "lista1 = [5, 3, 6, 2, 4]\n",
    "lista2 = [5, 3, 5, 4, 5]\n",
    "lista3 = [5, 3, 7, 4, 5]\n",
    "\n",
    "print(lista1 > lista2)        # inne działanie dla list! - porównanie podobne do porównania 2 liczb\n",
    "print(lista1 > lista3)\n",
    "print(lista1 > 3)             # brak działania dla list"
   ]
  },
  {
   "cell_type": "markdown",
   "id": "1dc591b5",
   "metadata": {},
   "source": [
    "### Filtrowanie"
   ]
  },
  {
   "cell_type": "markdown",
   "id": "8694e5fc",
   "metadata": {},
   "source": [
    "**filtrowanie** - slicing przy pomocy listy wartości logicznych przypisanych do kolejnych indeksów\n",
    "\n",
    "`True` - wybranie elementu \\\n",
    "`False` - niewybranie elementu"
   ]
  },
  {
   "cell_type": "code",
   "execution_count": 275,
   "id": "801fa743",
   "metadata": {},
   "outputs": [
    {
     "name": "stdout",
     "output_type": "stream",
     "text": [
      "[5 3 6 2 4]\n",
      "[ True False  True False  True]\n",
      "[5 6 4]\n"
     ]
    }
   ],
   "source": [
    "print(nmp_lista1)\n",
    "print(nmp_lista1 > 3)\n",
    "print(nmp_lista1[nmp_lista1 > 3])"
   ]
  },
  {
   "cell_type": "markdown",
   "id": "f382b694",
   "metadata": {},
   "source": [
    "## Modyfikacja"
   ]
  },
  {
   "cell_type": "code",
   "execution_count": 290,
   "id": "bdf56693",
   "metadata": {},
   "outputs": [
    {
     "name": "stdout",
     "output_type": "stream",
     "text": [
      "[5 3 6 2 4]\n",
      "[  5 -44   6  99  99]\n"
     ]
    }
   ],
   "source": [
    "nmp_lista = np.array([5, 3, 6, 2, 4])\n",
    "print(nmp_lista)\n",
    "\n",
    "nmp_lista[1] = -44\n",
    "nmp_lista[3:] = 99\n",
    "\n",
    "print(nmp_lista)"
   ]
  },
  {
   "cell_type": "code",
   "execution_count": 295,
   "id": "5f2370f3",
   "metadata": {},
   "outputs": [
    {
     "name": "stdout",
     "output_type": "stream",
     "text": [
      "[ 11 -44  11  99  99]\n"
     ]
    }
   ],
   "source": [
    "nmp_lista[(nmp_lista >= 1) & (nmp_lista < 10)] = 11\n",
    "\n",
    "print(nmp_lista)"
   ]
  },
  {
   "cell_type": "markdown",
   "id": "668d5d2b",
   "metadata": {},
   "source": [
    "## Utworzenie kopii"
   ]
  },
  {
   "cell_type": "code",
   "execution_count": 237,
   "id": "fa27005e",
   "metadata": {},
   "outputs": [
    {
     "name": "stdout",
     "output_type": "stream",
     "text": [
      "[5, 99, 6, 2, 4]\n",
      "[5, 99, 6, 2, 4]\n",
      "[5, 3, 6, 2, 4]\n"
     ]
    }
   ],
   "source": [
    "lista1 = [5, 3, 6, 2, 4]\n",
    "lista2 = lista1\n",
    "lista3 = lista1[:]\n",
    "\n",
    "lista1[1] = 99\n",
    "\n",
    "print(lista1)\n",
    "print(lista2)    # nie działa!\n",
    "print(lista3)    # działa "
   ]
  },
  {
   "cell_type": "code",
   "execution_count": 240,
   "id": "e1ab4d7c",
   "metadata": {},
   "outputs": [
    {
     "name": "stdout",
     "output_type": "stream",
     "text": [
      "[ 5 99  6  2  4]\n",
      "[ 5 99  6  2  4]\n",
      "[ 5 99  6  2  4]\n",
      "[5 3 6 2 4]\n"
     ]
    }
   ],
   "source": [
    "nmp_lista1 = np.array([5, 3, 6, 2, 4])\n",
    "nmp_lista2 = nmp_lista1\n",
    "nmp_lista3 = nmp_lista1[:]\n",
    "nmp_lista4 = nmp_lista1.copy()              # funkcja kopiująca\n",
    "\n",
    "nmp_lista1[1] = 99\n",
    "\n",
    "print(nmp_lista1)     \n",
    "print(nmp_lista2)     # nie działa!\n",
    "print(nmp_lista3)     # nie działa!\n",
    "print(nmp_lista4) "
   ]
  },
  {
   "cell_type": "markdown",
   "id": "28878e5c",
   "metadata": {},
   "source": [
    "---\n",
    "\n",
    "### Ćwiczenie"
   ]
  },
  {
   "cell_type": "markdown",
   "id": "32ee0297",
   "metadata": {},
   "source": [
    "Utwórz listę podobną do poniższej, ale jeśli pojawiają się w niej liczby mniejsze równe 0, to pomnóż je razy 5. \\\n",
    "Uwaga! Nie modyfikuj bezpośrednio podanej listy."
   ]
  },
  {
   "cell_type": "code",
   "execution_count": 305,
   "id": "6b93d19e",
   "metadata": {},
   "outputs": [],
   "source": [
    "nmp_lista1 = np.array([5, -1, 3, 6, 0, -1, 2, 4, 1])\n",
    "\n"
   ]
  },
  {
   "cell_type": "markdown",
   "id": "8969718f",
   "metadata": {},
   "source": [
    "---\n",
    "\n",
    "## Funkcje tabularyczne"
   ]
  },
  {
   "cell_type": "code",
   "execution_count": 346,
   "id": "40b89392",
   "metadata": {},
   "outputs": [
    {
     "name": "stdout",
     "output_type": "stream",
     "text": [
      "[ 1  3  5  7  9 11 13 15 17 19]\n",
      "[0.  0.1 0.2 0.3 0.4 0.5 0.6 0.7 0.8 0.9]\n"
     ]
    }
   ],
   "source": [
    "print(np.arange(1, 20, 2))    # ciąg liczb rzeczywistych od 1 do 19 o kroku 2\n",
    "print(np.arange(0, 1, 0.1))"
   ]
  },
  {
   "cell_type": "code",
   "execution_count": 347,
   "id": "d6b1ab39",
   "metadata": {},
   "outputs": [
    {
     "name": "stdout",
     "output_type": "stream",
     "text": [
      "range(1, 20, 2)\n"
     ]
    },
    {
     "ename": "TypeError",
     "evalue": "'float' object cannot be interpreted as an integer",
     "output_type": "error",
     "traceback": [
      "\u001b[1;31m---------------------------------------------------------------------------\u001b[0m",
      "\u001b[1;31mTypeError\u001b[0m                                 Traceback (most recent call last)",
      "Input \u001b[1;32mIn [347]\u001b[0m, in \u001b[0;36m<module>\u001b[1;34m\u001b[0m\n\u001b[0;32m      1\u001b[0m \u001b[38;5;28mprint\u001b[39m(\u001b[38;5;28mrange\u001b[39m(\u001b[38;5;241m1\u001b[39m, \u001b[38;5;241m20\u001b[39m, \u001b[38;5;241m2\u001b[39m))\n\u001b[1;32m----> 2\u001b[0m \u001b[38;5;28mprint\u001b[39m(\u001b[38;5;28;43mrange\u001b[39;49m\u001b[43m(\u001b[49m\u001b[38;5;241;43m0\u001b[39;49m\u001b[43m,\u001b[49m\u001b[43m \u001b[49m\u001b[38;5;241;43m1\u001b[39;49m\u001b[43m,\u001b[49m\u001b[43m \u001b[49m\u001b[38;5;241;43m0.1\u001b[39;49m\u001b[43m)\u001b[49m)\n",
      "\u001b[1;31mTypeError\u001b[0m: 'float' object cannot be interpreted as an integer"
     ]
    }
   ],
   "source": [
    "print(range(1, 20, 2))\n",
    "print(range(0, 1, 0.1))       # base.range nie pozwala na ciągi liczb rzeczywistych, jedynie całkowitych"
   ]
  },
  {
   "cell_type": "code",
   "execution_count": 348,
   "id": "9c67e260",
   "metadata": {},
   "outputs": [
    {
     "name": "stdout",
     "output_type": "stream",
     "text": [
      "[0.   0.25 0.5  0.75 1.  ]\n"
     ]
    }
   ],
   "source": [
    "print(np.linspace(0, 1, 5))             # ciąg 5 liczb rzeczywistych rozciągniętych równo na przedziale [0, 1]"
   ]
  },
  {
   "cell_type": "code",
   "execution_count": 349,
   "id": "47ea4918",
   "metadata": {},
   "outputs": [
    {
     "name": "stdout",
     "output_type": "stream",
     "text": [
      "[0. 0. 0. 0. 0.]\n"
     ]
    }
   ],
   "source": [
    "print(np.zeros(5))                      # lista zer długości 5"
   ]
  },
  {
   "cell_type": "code",
   "execution_count": 350,
   "id": "3f064e2d",
   "metadata": {},
   "outputs": [
    {
     "name": "stdout",
     "output_type": "stream",
     "text": [
      "[[0. 0. 0. 0.]\n",
      " [0. 0. 0. 0.]\n",
      " [0. 0. 0. 0.]]\n"
     ]
    }
   ],
   "source": [
    "print(np.zeros((3, 4)))                 # tablica zer wymiaru 3 x 4"
   ]
  },
  {
   "cell_type": "code",
   "execution_count": 351,
   "id": "7f7b7847",
   "metadata": {},
   "outputs": [
    {
     "name": "stdout",
     "output_type": "stream",
     "text": [
      "[1. 1. 1. 1. 1.]\n"
     ]
    }
   ],
   "source": [
    "print(np.ones(5))                       # lista jedynek długości 5"
   ]
  },
  {
   "cell_type": "code",
   "execution_count": 352,
   "id": "f67919ba",
   "metadata": {},
   "outputs": [
    {
     "name": "stdout",
     "output_type": "stream",
     "text": [
      "[[1. 1. 1. 1.]\n",
      " [1. 1. 1. 1.]\n",
      " [1. 1. 1. 1.]]\n"
     ]
    }
   ],
   "source": [
    "print(np.ones((3, 4)))                  # tablica jedynek wymiaru 3 x 4"
   ]
  },
  {
   "cell_type": "code",
   "execution_count": 353,
   "id": "a22f1935",
   "metadata": {},
   "outputs": [
    {
     "name": "stdout",
     "output_type": "stream",
     "text": [
      "[9 2 5 7 6]\n"
     ]
    }
   ],
   "source": [
    "print(np.random.randint(1, 10, 5))      # lista 5 losowych liczb całkowitych z przedziału [1, 10]"
   ]
  },
  {
   "cell_type": "code",
   "execution_count": 354,
   "id": "21813e72",
   "metadata": {},
   "outputs": [
    {
     "name": "stdout",
     "output_type": "stream",
     "text": [
      "[[9 9 3 1]\n",
      " [6 2 6 4]\n",
      " [5 3 4 6]]\n"
     ]
    }
   ],
   "source": [
    "print(np.random.randint(1, 10, (3, 4))) # tablica 3 x 4 losowych liczb całkowitych z przedziału [1, 10]"
   ]
  },
  {
   "cell_type": "code",
   "execution_count": 355,
   "id": "da58c853",
   "metadata": {},
   "outputs": [
    {
     "name": "stdout",
     "output_type": "stream",
     "text": [
      "[0.83050154 0.68759507 0.24436539 0.95880074 0.55562047]\n"
     ]
    }
   ],
   "source": [
    "print(np.random.rand(5))                # lista 5 liczb losowych z przedziału [0, 1)"
   ]
  },
  {
   "cell_type": "code",
   "execution_count": 356,
   "id": "acfd5c1e",
   "metadata": {},
   "outputs": [
    {
     "name": "stdout",
     "output_type": "stream",
     "text": [
      "[[0.57379901 0.9116156  0.42214495 0.81373062]\n",
      " [0.2690298  0.31401804 0.73768209 0.89371737]\n",
      " [0.11668406 0.61858708 0.68241852 0.81323798]]\n"
     ]
    }
   ],
   "source": [
    "print(np.random.rand(3, 4))             # tablica 3 x 4 liczb losowych z przedziału [0, 1) "
   ]
  },
  {
   "cell_type": "code",
   "execution_count": 357,
   "id": "5d85867c",
   "metadata": {
    "scrolled": true
   },
   "outputs": [
    {
     "name": "stdout",
     "output_type": "stream",
     "text": [
      "[-1.99511056 -0.33610861 -0.26738307  1.36783183  1.44817551]\n"
     ]
    }
   ],
   "source": [
    "print(np.random.randn(5))               # lista 5 liczb losowych ze standardowego rozkładu normalnego (N(0, 1))"
   ]
  },
  {
   "cell_type": "code",
   "execution_count": 358,
   "id": "026b9a0d",
   "metadata": {},
   "outputs": [
    {
     "name": "stdout",
     "output_type": "stream",
     "text": [
      "[[ 1.68917856  1.0716927   0.37099594  2.49586064]\n",
      " [ 0.81170729 -1.25901863  0.89145444  0.20596665]\n",
      " [ 2.48524567 -1.06888454 -0.70028515 -1.90080628]]\n"
     ]
    }
   ],
   "source": [
    "print(np.random.randn(3, 4))            # tablica 3 x 4  liczb losowych ze standardowego rozkładu normalnego (N(0, 1))"
   ]
  },
  {
   "cell_type": "markdown",
   "id": "dcc4c345",
   "metadata": {},
   "source": [
    "## Funkcje matematyczne"
   ]
  },
  {
   "cell_type": "code",
   "execution_count": 378,
   "id": "14b46ce0",
   "metadata": {},
   "outputs": [
    {
     "data": {
      "text/plain": [
       "array([[0.06246344, 0.99969324, 0.64824604, 0.50913287],\n",
       "       [0.31002676, 0.64965507, 0.57823257, 0.18524079],\n",
       "       [0.96425016, 0.89460427, 0.78235014, 0.51946109]])"
      ]
     },
     "execution_count": 378,
     "metadata": {},
     "output_type": "execute_result"
    }
   ],
   "source": [
    "nmp_tablica = np.random.rand(3, 4)    \n",
    "\n",
    "print(np.round(nmp_tablica, 2))     # zaokrąglenie dla każdego elementu"
   ]
  },
  {
   "cell_type": "code",
   "execution_count": 379,
   "id": "feabe1dc",
   "metadata": {},
   "outputs": [
    {
     "data": {
      "text/plain": [
       "array([[1.        , 1.41421356, 1.73205081],\n",
       "       [2.        , 2.23606798, 2.44948974],\n",
       "       [2.64575131, 2.82842712, 3.        ]])"
      ]
     },
     "execution_count": 379,
     "metadata": {},
     "output_type": "execute_result"
    }
   ],
   "source": [
    "nmp_tablica = np.array([[1, 2, 3],\n",
    "                        [4, 5, 6],\n",
    "                        [7, 8, 9]])\n",
    "\n",
    "print(np.sqrt(nmp_tablica))         # pierwiastek dla każdego elementu"
   ]
  },
  {
   "cell_type": "code",
   "execution_count": 385,
   "id": "845f4558",
   "metadata": {},
   "outputs": [
    {
     "name": "stdout",
     "output_type": "stream",
     "text": [
      "5.0\n",
      "2.581988897471611\n"
     ]
    }
   ],
   "source": [
    "nmp_tablica = np.array([1, 2, 3, 4, 5, 6, 7, 8, 9])\n",
    "\n",
    "print(np.mean(nmp_tablica))\n",
    "print(np.std(nmp_tablica))          # statystyki dla elementów tablicy jako próby, np. średnia, odchylenie standardowe"
   ]
  }
 ],
 "metadata": {
  "kernelspec": {
   "display_name": "Python 3 (ipykernel)",
   "language": "python",
   "name": "python3"
  },
  "language_info": {
   "codemirror_mode": {
    "name": "ipython",
    "version": 3
   },
   "file_extension": ".py",
   "mimetype": "text/x-python",
   "name": "python",
   "nbconvert_exporter": "python",
   "pygments_lexer": "ipython3",
   "version": "3.13.5"
  },
  "vp": {
   "vp_config_version": "1.0.0",
   "vp_menu_width": 273,
   "vp_note_display": false,
   "vp_note_width": 0,
   "vp_position": {
    "width": 278
   },
   "vp_section_display": false,
   "vp_signature": "VisualPython"
  }
 },
 "nbformat": 4,
 "nbformat_minor": 5
}
